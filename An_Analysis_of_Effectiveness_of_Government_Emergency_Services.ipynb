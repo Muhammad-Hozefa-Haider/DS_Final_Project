{
  "nbformat": 4,
  "nbformat_minor": 0,
  "metadata": {
    "colab": {
      "name": "An Analysis of Effectiveness of Government Emergency Services.ipynb",
      "provenance": [],
      "collapsed_sections": [],
      "include_colab_link": true
    },
    "kernelspec": {
      "display_name": "Python 3",
      "name": "python3"
    }
  },
  "cells": [
    {
      "cell_type": "markdown",
      "metadata": {
        "id": "view-in-github",
        "colab_type": "text"
      },
      "source": [
        "<a href=\"https://colab.research.google.com/github/Muhammad-Hozefa-Haider/DS_Final_Project/blob/main/An_Analysis_of_Effectiveness_of_Government_Emergency_Services.ipynb\" target=\"_parent\"><img src=\"https://colab.research.google.com/assets/colab-badge.svg\" alt=\"Open In Colab\"/></a>"
      ]
    },
    {
      "cell_type": "markdown",
      "metadata": {
        "id": "22Jblwh3E2Wn"
      },
      "source": [
        "\n",
        "# DS Project - Analysing the Effectiveness of Government  Emergency Services\n",
        "\n",
        "This project will explore the data set provided by The Mayor’s Office of Data Analytics(MODA) and the Department of Information Technology and Telecommunications(DoITT), open data for NYC. The 311 calls in New York City (NYC) are publicly available [here](https://www.kaggle.com/nidhirastogi/311-service-requests-from-2010-to-present?select=311_Service_Requests_from_2010_to_Present.csv). \n",
        "\n",
        "This dataset comprises all calls made to 311 from the year 2010-Present. Our analysis would also include merging the dataset with the National Storms dataset to compare the average response time for complaints during a storm and otherwise. The storm events dataset is available [here](https://www.ncdc.noaa.gov/stormevents/choosedates.jsp?statefips=36%2CNEW+YORK) (for New York only). \n",
        "\n",
        "> Project Members:\n",
        "\n",
        "*   Muhammad Hozefa Haider\n",
        "*   Syed Hammad Ali\n",
        "*   Habab Idress\n"
      ]
    },
    {
      "cell_type": "code",
      "metadata": {
        "colab": {
          "base_uri": "https://localhost:8080/"
        },
        "id": "SJr-HA1uDI2f",
        "outputId": "85b467ea-755e-49a7-a7e7-169f9bd8c045"
      },
      "source": [
        "from google.colab import drive\n",
        "drive.mount('/content/gdrive')"
      ],
      "execution_count": null,
      "outputs": [
        {
          "output_type": "stream",
          "text": [
            "Drive already mounted at /content/gdrive; to attempt to forcibly remount, call drive.mount(\"/content/gdrive\", force_remount=True).\n"
          ],
          "name": "stdout"
        }
      ]
    },
    {
      "cell_type": "markdown",
      "metadata": {
        "id": "UEO7ITvsE_jZ"
      },
      "source": [
        "## Importing Python Packages"
      ]
    },
    {
      "cell_type": "code",
      "metadata": {
        "id": "RxXh6QenFIrF"
      },
      "source": [
        "import pandas as pd\n",
        "import numpy as np\n",
        "import matplotlib as mpl\n",
        "from matplotlib import pyplot as plt\n",
        "import datetime as dt\n",
        "\n",
        "from sklearn import preprocessing\n",
        "from sklearn.linear_model import LogisticRegression\n",
        "from sklearn.metrics import confusion_matrix\n",
        "from sklearn.metrics import accuracy_score\n",
        "from sklearn.metrics import classification_report\n",
        "from sklearn.tree import DecisionTreeClassifier\n",
        "from sklearn.tree import export_graphviz\n",
        "import scipy as sp\n"
      ],
      "execution_count": null,
      "outputs": []
    },
    {
      "cell_type": "markdown",
      "metadata": {
        "id": "wYWkF3xgFPIN"
      },
      "source": [
        "## Loading the 311 Dataset"
      ]
    },
    {
      "cell_type": "code",
      "metadata": {
        "colab": {
          "base_uri": "https://localhost:8080/"
        },
        "id": "KrEBPZs0FOr_",
        "outputId": "bfe2df1e-9d10-4eb9-9c66-aee1a48768f5"
      },
      "source": [
        "df = pd.read_csv('/content/gdrive/My Drive/311_Service_Requests_from_2011.csv')"
      ],
      "execution_count": null,
      "outputs": [
        {
          "output_type": "stream",
          "text": [
            "/usr/local/lib/python3.6/dist-packages/IPython/core/interactiveshell.py:2718: DtypeWarning: Columns (8,17,39,40,41,42,43,44,45,46,47,48,49) have mixed types.Specify dtype option on import or set low_memory=False.\n",
            "  interactivity=interactivity, compiler=compiler, result=result)\n"
          ],
          "name": "stderr"
        }
      ]
    },
    {
      "cell_type": "markdown",
      "metadata": {
        "id": "EWQClggZcyQ7"
      },
      "source": [
        "## Preprocessing the Data"
      ]
    },
    {
      "cell_type": "code",
      "metadata": {
        "colab": {
          "base_uri": "https://localhost:8080/"
        },
        "id": "2pxQKk2rjxTf",
        "outputId": "42a03bdd-6e50-4140-8059-ed06442d2214"
      },
      "source": [
        "count = 0\n",
        "for col in df.columns:\n",
        "  print(count, col)\n",
        "  count+=1"
      ],
      "execution_count": null,
      "outputs": [
        {
          "output_type": "stream",
          "text": [
            "0 Unique Key\n",
            "1 Created Date\n",
            "2 Closed Date\n",
            "3 Agency\n",
            "4 Agency Name\n",
            "5 Complaint Type\n",
            "6 Descriptor\n",
            "7 Location Type\n",
            "8 Incident Zip\n",
            "9 Incident Address\n",
            "10 Street Name\n",
            "11 Cross Street 1\n",
            "12 Cross Street 2\n",
            "13 Intersection Street 1\n",
            "14 Intersection Street 2\n",
            "15 Address Type\n",
            "16 City\n",
            "17 Landmark\n",
            "18 Facility Type\n",
            "19 Status\n",
            "20 Due Date\n",
            "21 Resolution Description\n",
            "22 Resolution Action Updated Date\n",
            "23 Community Board\n",
            "24 Borough\n",
            "25 X Coordinate (State Plane)\n",
            "26 Y Coordinate (State Plane)\n",
            "27 Park Facility Name\n",
            "28 Park Borough\n",
            "29 School Name\n",
            "30 School Number\n",
            "31 School Region\n",
            "32 School Code\n",
            "33 School Phone Number\n",
            "34 School Address\n",
            "35 School City\n",
            "36 School State\n",
            "37 School Zip\n",
            "38 School Not Found\n",
            "39 School or Citywide Complaint\n",
            "40 Vehicle Type\n",
            "41 Taxi Company Borough\n",
            "42 Taxi Pick Up Location\n",
            "43 Bridge Highway Name\n",
            "44 Bridge Highway Direction\n",
            "45 Road Ramp\n",
            "46 Bridge Highway Segment\n",
            "47 Garage Lot Name\n",
            "48 Ferry Direction\n",
            "49 Ferry Terminal Name\n",
            "50 Latitude\n",
            "51 Longitude\n",
            "52 Location\n"
          ],
          "name": "stdout"
        }
      ]
    },
    {
      "cell_type": "code",
      "metadata": {
        "id": "Ow_Tu5_XiNXv"
      },
      "source": [
        "df.drop(df.columns[[11,12,13,14,15,17,18,29,30,31,32,33,34,35,36,37,38,39,40,41,42,43,44,45,46,47,48,49]], axis = 1, inplace = True) \n",
        "\n"
      ],
      "execution_count": null,
      "outputs": []
    },
    {
      "cell_type": "code",
      "metadata": {
        "colab": {
          "base_uri": "https://localhost:8080/",
          "height": 926
        },
        "id": "FQY3L38sdY0U",
        "outputId": "1dc6af90-be1c-4841-943c-4b2f5dd46041"
      },
      "source": [
        "df"
      ],
      "execution_count": null,
      "outputs": [
        {
          "output_type": "execute_result",
          "data": {
            "text/html": [
              "<div>\n",
              "<style scoped>\n",
              "    .dataframe tbody tr th:only-of-type {\n",
              "        vertical-align: middle;\n",
              "    }\n",
              "\n",
              "    .dataframe tbody tr th {\n",
              "        vertical-align: top;\n",
              "    }\n",
              "\n",
              "    .dataframe thead th {\n",
              "        text-align: right;\n",
              "    }\n",
              "</style>\n",
              "<table border=\"1\" class=\"dataframe\">\n",
              "  <thead>\n",
              "    <tr style=\"text-align: right;\">\n",
              "      <th></th>\n",
              "      <th>Unique Key</th>\n",
              "      <th>Created Date</th>\n",
              "      <th>Closed Date</th>\n",
              "      <th>Agency</th>\n",
              "      <th>Agency Name</th>\n",
              "      <th>Complaint Type</th>\n",
              "      <th>Descriptor</th>\n",
              "      <th>Location Type</th>\n",
              "      <th>Incident Zip</th>\n",
              "      <th>Incident Address</th>\n",
              "      <th>Street Name</th>\n",
              "      <th>City</th>\n",
              "      <th>Status</th>\n",
              "      <th>Due Date</th>\n",
              "      <th>Resolution Description</th>\n",
              "      <th>Resolution Action Updated Date</th>\n",
              "      <th>Community Board</th>\n",
              "      <th>Borough</th>\n",
              "      <th>X Coordinate (State Plane)</th>\n",
              "      <th>Y Coordinate (State Plane)</th>\n",
              "      <th>Park Facility Name</th>\n",
              "      <th>Park Borough</th>\n",
              "      <th>Latitude</th>\n",
              "      <th>Longitude</th>\n",
              "      <th>Location</th>\n",
              "    </tr>\n",
              "  </thead>\n",
              "  <tbody>\n",
              "    <tr>\n",
              "      <th>0</th>\n",
              "      <td>19574549</td>\n",
              "      <td>01/11/2011 03:47:18 PM</td>\n",
              "      <td>07/05/2011 04:08:01 PM</td>\n",
              "      <td>TLC</td>\n",
              "      <td>Correspondence - Taxi and Limousine Commission</td>\n",
              "      <td>Taxi Compliment</td>\n",
              "      <td>Driver Compliment</td>\n",
              "      <td>NaN</td>\n",
              "      <td>NaN</td>\n",
              "      <td>NaN</td>\n",
              "      <td>NaN</td>\n",
              "      <td>NaN</td>\n",
              "      <td>Closed</td>\n",
              "      <td>NaN</td>\n",
              "      <td>NaN</td>\n",
              "      <td>07/05/2011 04:08:01 PM</td>\n",
              "      <td>0 Unspecified</td>\n",
              "      <td>Unspecified</td>\n",
              "      <td>NaN</td>\n",
              "      <td>NaN</td>\n",
              "      <td>Unspecified</td>\n",
              "      <td>Unspecified</td>\n",
              "      <td>NaN</td>\n",
              "      <td>NaN</td>\n",
              "      <td>NaN</td>\n",
              "    </tr>\n",
              "    <tr>\n",
              "      <th>1</th>\n",
              "      <td>19579718</td>\n",
              "      <td>01/11/2011 03:00:00 AM</td>\n",
              "      <td>NaN</td>\n",
              "      <td>DEP</td>\n",
              "      <td>Department of Environmental Protection</td>\n",
              "      <td>Lead</td>\n",
              "      <td>Lead Kit Request (Residential) (L10)</td>\n",
              "      <td>NaN</td>\n",
              "      <td>10011</td>\n",
              "      <td>226 WEST 20 STREET</td>\n",
              "      <td>WEST 20 STREET</td>\n",
              "      <td>NEW YORK</td>\n",
              "      <td>Open</td>\n",
              "      <td>NaN</td>\n",
              "      <td>NaN</td>\n",
              "      <td>NaN</td>\n",
              "      <td>04 MANHATTAN</td>\n",
              "      <td>MANHATTAN</td>\n",
              "      <td>984813.0</td>\n",
              "      <td>209834.0</td>\n",
              "      <td>Unspecified</td>\n",
              "      <td>MANHATTAN</td>\n",
              "      <td>40.742622</td>\n",
              "      <td>-73.997968</td>\n",
              "      <td>(40.74262244714865, -73.99796826857371)</td>\n",
              "    </tr>\n",
              "    <tr>\n",
              "      <th>2</th>\n",
              "      <td>19573881</td>\n",
              "      <td>01/11/2011 11:31:02 AM</td>\n",
              "      <td>07/05/2011 04:07:58 PM</td>\n",
              "      <td>TLC</td>\n",
              "      <td>Correspondence - Taxi and Limousine Commission</td>\n",
              "      <td>Taxi Compliment</td>\n",
              "      <td>Driver Compliment</td>\n",
              "      <td>NaN</td>\n",
              "      <td>NaN</td>\n",
              "      <td>NaN</td>\n",
              "      <td>NaN</td>\n",
              "      <td>NaN</td>\n",
              "      <td>Closed</td>\n",
              "      <td>NaN</td>\n",
              "      <td>NaN</td>\n",
              "      <td>07/05/2011 04:07:58 PM</td>\n",
              "      <td>0 Unspecified</td>\n",
              "      <td>Unspecified</td>\n",
              "      <td>NaN</td>\n",
              "      <td>NaN</td>\n",
              "      <td>Unspecified</td>\n",
              "      <td>Unspecified</td>\n",
              "      <td>NaN</td>\n",
              "      <td>NaN</td>\n",
              "      <td>NaN</td>\n",
              "    </tr>\n",
              "    <tr>\n",
              "      <th>3</th>\n",
              "      <td>19579917</td>\n",
              "      <td>01/11/2011 12:46:00 PM</td>\n",
              "      <td>NaN</td>\n",
              "      <td>DEP</td>\n",
              "      <td>Department of Environmental Protection</td>\n",
              "      <td>Lead</td>\n",
              "      <td>Lead Kit Request (Non-Residential) (L11)</td>\n",
              "      <td>NaN</td>\n",
              "      <td>10128</td>\n",
              "      <td>7 EAST 95 STREET</td>\n",
              "      <td>EAST 95 STREET</td>\n",
              "      <td>NEW YORK</td>\n",
              "      <td>Open</td>\n",
              "      <td>NaN</td>\n",
              "      <td>NaN</td>\n",
              "      <td>NaN</td>\n",
              "      <td>08 MANHATTAN</td>\n",
              "      <td>MANHATTAN</td>\n",
              "      <td>996485.0</td>\n",
              "      <td>226022.0</td>\n",
              "      <td>Unspecified</td>\n",
              "      <td>MANHATTAN</td>\n",
              "      <td>40.787046</td>\n",
              "      <td>-73.955817</td>\n",
              "      <td>(40.78704587425496, -73.95581736959971)</td>\n",
              "    </tr>\n",
              "    <tr>\n",
              "      <th>4</th>\n",
              "      <td>19580080</td>\n",
              "      <td>01/11/2011 05:03:00 PM</td>\n",
              "      <td>NaN</td>\n",
              "      <td>DEP</td>\n",
              "      <td>Department of Environmental Protection</td>\n",
              "      <td>Lead</td>\n",
              "      <td>Lead Kit Request (Residential) (L10)</td>\n",
              "      <td>NaN</td>\n",
              "      <td>11208</td>\n",
              "      <td>721 FOUNTAIN AVENUE</td>\n",
              "      <td>FOUNTAIN AVENUE</td>\n",
              "      <td>BROOKLYN</td>\n",
              "      <td>Open</td>\n",
              "      <td>NaN</td>\n",
              "      <td>NaN</td>\n",
              "      <td>NaN</td>\n",
              "      <td>05 BROOKLYN</td>\n",
              "      <td>BROOKLYN</td>\n",
              "      <td>1020628.0</td>\n",
              "      <td>180754.0</td>\n",
              "      <td>Unspecified</td>\n",
              "      <td>BROOKLYN</td>\n",
              "      <td>40.662730</td>\n",
              "      <td>-73.868878</td>\n",
              "      <td>(40.66272996328775, -73.8688777423775)</td>\n",
              "    </tr>\n",
              "    <tr>\n",
              "      <th>...</th>\n",
              "      <td>...</td>\n",
              "      <td>...</td>\n",
              "      <td>...</td>\n",
              "      <td>...</td>\n",
              "      <td>...</td>\n",
              "      <td>...</td>\n",
              "      <td>...</td>\n",
              "      <td>...</td>\n",
              "      <td>...</td>\n",
              "      <td>...</td>\n",
              "      <td>...</td>\n",
              "      <td>...</td>\n",
              "      <td>...</td>\n",
              "      <td>...</td>\n",
              "      <td>...</td>\n",
              "      <td>...</td>\n",
              "      <td>...</td>\n",
              "      <td>...</td>\n",
              "      <td>...</td>\n",
              "      <td>...</td>\n",
              "      <td>...</td>\n",
              "      <td>...</td>\n",
              "      <td>...</td>\n",
              "      <td>...</td>\n",
              "      <td>...</td>\n",
              "    </tr>\n",
              "    <tr>\n",
              "      <th>1917207</th>\n",
              "      <td>26826563</td>\n",
              "      <td>02/06/2011 05:04:15 AM</td>\n",
              "      <td>02/06/2011 05:12:53 AM</td>\n",
              "      <td>NYPD</td>\n",
              "      <td>New York City Police Department</td>\n",
              "      <td>Noise - Residential</td>\n",
              "      <td>Banging/Pounding</td>\n",
              "      <td>Residential Building/House</td>\n",
              "      <td>11209</td>\n",
              "      <td>8801 SHORE ROAD</td>\n",
              "      <td>SHORE ROAD</td>\n",
              "      <td>BROOKLYN</td>\n",
              "      <td>Closed</td>\n",
              "      <td>02/06/2011 01:04:15 PM</td>\n",
              "      <td>The Police Department responded to the complai...</td>\n",
              "      <td>02/06/2011 05:12:38 AM</td>\n",
              "      <td>10 BROOKLYN</td>\n",
              "      <td>BROOKLYN</td>\n",
              "      <td>972921.0</td>\n",
              "      <td>166597.0</td>\n",
              "      <td>Unspecified</td>\n",
              "      <td>BROOKLYN</td>\n",
              "      <td>40.623940</td>\n",
              "      <td>-74.040811</td>\n",
              "      <td>(40.62393953136923, -74.04081093578047)</td>\n",
              "    </tr>\n",
              "    <tr>\n",
              "      <th>1917208</th>\n",
              "      <td>26826565</td>\n",
              "      <td>02/06/2011 10:32:37 AM</td>\n",
              "      <td>02/06/2011 02:45:33 PM</td>\n",
              "      <td>NYPD</td>\n",
              "      <td>New York City Police Department</td>\n",
              "      <td>Noise - Residential</td>\n",
              "      <td>Loud Music/Party</td>\n",
              "      <td>Residential Building/House</td>\n",
              "      <td>11229</td>\n",
              "      <td>2177 EAST 21 STREET</td>\n",
              "      <td>EAST 21 STREET</td>\n",
              "      <td>BROOKLYN</td>\n",
              "      <td>Closed</td>\n",
              "      <td>02/06/2011 06:32:37 PM</td>\n",
              "      <td>The Police Department responded to the complai...</td>\n",
              "      <td>02/06/2011 02:45:18 PM</td>\n",
              "      <td>15 BROOKLYN</td>\n",
              "      <td>BROOKLYN</td>\n",
              "      <td>998051.0</td>\n",
              "      <td>157578.0</td>\n",
              "      <td>Unspecified</td>\n",
              "      <td>BROOKLYN</td>\n",
              "      <td>40.599181</td>\n",
              "      <td>-73.950303</td>\n",
              "      <td>(40.59918073051626, -73.95030250845852)</td>\n",
              "    </tr>\n",
              "    <tr>\n",
              "      <th>1917209</th>\n",
              "      <td>26826567</td>\n",
              "      <td>02/06/2011 11:02:09 PM</td>\n",
              "      <td>02/06/2011 11:54:38 PM</td>\n",
              "      <td>NYPD</td>\n",
              "      <td>New York City Police Department</td>\n",
              "      <td>Noise - Residential</td>\n",
              "      <td>Loud Music/Party</td>\n",
              "      <td>Residential Building/House</td>\n",
              "      <td>10036</td>\n",
              "      <td>150 WEST 47 STREET</td>\n",
              "      <td>WEST 47 STREET</td>\n",
              "      <td>NEW YORK</td>\n",
              "      <td>Closed</td>\n",
              "      <td>02/07/2011 07:02:09 AM</td>\n",
              "      <td>The Police Department responded to the complai...</td>\n",
              "      <td>02/06/2011 11:54:12 PM</td>\n",
              "      <td>05 MANHATTAN</td>\n",
              "      <td>MANHATTAN</td>\n",
              "      <td>988893.0</td>\n",
              "      <td>215661.0</td>\n",
              "      <td>Unspecified</td>\n",
              "      <td>MANHATTAN</td>\n",
              "      <td>40.758615</td>\n",
              "      <td>-73.983241</td>\n",
              "      <td>(40.75861488922095, -73.98324050804679)</td>\n",
              "    </tr>\n",
              "    <tr>\n",
              "      <th>1917210</th>\n",
              "      <td>26826576</td>\n",
              "      <td>02/06/2011 04:10:33 PM</td>\n",
              "      <td>02/06/2011 06:28:05 PM</td>\n",
              "      <td>NYPD</td>\n",
              "      <td>New York City Police Department</td>\n",
              "      <td>Non-Emergency Police Matter</td>\n",
              "      <td>Other (complaint details)</td>\n",
              "      <td>Street/Sidewalk</td>\n",
              "      <td>10031</td>\n",
              "      <td>562 WEST 148 STREET</td>\n",
              "      <td>WEST 148 STREET</td>\n",
              "      <td>NEW YORK</td>\n",
              "      <td>Closed</td>\n",
              "      <td>02/07/2011 12:10:33 AM</td>\n",
              "      <td>The Police Department responded to the complai...</td>\n",
              "      <td>02/06/2011 06:27:06 PM</td>\n",
              "      <td>09 MANHATTAN</td>\n",
              "      <td>MANHATTAN</td>\n",
              "      <td>998686.0</td>\n",
              "      <td>240882.0</td>\n",
              "      <td>Unspecified</td>\n",
              "      <td>MANHATTAN</td>\n",
              "      <td>40.827829</td>\n",
              "      <td>-73.947837</td>\n",
              "      <td>(40.827829138979425, -73.947837237546)</td>\n",
              "    </tr>\n",
              "    <tr>\n",
              "      <th>1917211</th>\n",
              "      <td>26826579</td>\n",
              "      <td>02/06/2011 01:21:01 PM</td>\n",
              "      <td>02/06/2011 02:16:25 PM</td>\n",
              "      <td>NYPD</td>\n",
              "      <td>New York City Police Department</td>\n",
              "      <td>Noise - Residential</td>\n",
              "      <td>Banging/Pounding</td>\n",
              "      <td>Residential Building/House</td>\n",
              "      <td>11226</td>\n",
              "      <td>730 ROGERS AVENUE</td>\n",
              "      <td>ROGERS AVENUE</td>\n",
              "      <td>BROOKLYN</td>\n",
              "      <td>Closed</td>\n",
              "      <td>02/06/2011 09:21:01 PM</td>\n",
              "      <td>The Police Department responded to the complai...</td>\n",
              "      <td>02/06/2011 02:16:01 PM</td>\n",
              "      <td>17 BROOKLYN</td>\n",
              "      <td>BROOKLYN</td>\n",
              "      <td>997355.0</td>\n",
              "      <td>177328.0</td>\n",
              "      <td>Unspecified</td>\n",
              "      <td>BROOKLYN</td>\n",
              "      <td>40.653391</td>\n",
              "      <td>-73.952770</td>\n",
              "      <td>(40.653391380061045, -73.95277046303707)</td>\n",
              "    </tr>\n",
              "  </tbody>\n",
              "</table>\n",
              "<p>1917212 rows × 25 columns</p>\n",
              "</div>"
            ],
            "text/plain": [
              "         Unique Key  ...                                  Location\n",
              "0          19574549  ...                                       NaN\n",
              "1          19579718  ...   (40.74262244714865, -73.99796826857371)\n",
              "2          19573881  ...                                       NaN\n",
              "3          19579917  ...   (40.78704587425496, -73.95581736959971)\n",
              "4          19580080  ...    (40.66272996328775, -73.8688777423775)\n",
              "...             ...  ...                                       ...\n",
              "1917207    26826563  ...   (40.62393953136923, -74.04081093578047)\n",
              "1917208    26826565  ...   (40.59918073051626, -73.95030250845852)\n",
              "1917209    26826567  ...   (40.75861488922095, -73.98324050804679)\n",
              "1917210    26826576  ...    (40.827829138979425, -73.947837237546)\n",
              "1917211    26826579  ...  (40.653391380061045, -73.95277046303707)\n",
              "\n",
              "[1917212 rows x 25 columns]"
            ]
          },
          "metadata": {
            "tags": []
          },
          "execution_count": 6
        }
      ]
    },
    {
      "cell_type": "code",
      "metadata": {
        "colab": {
          "base_uri": "https://localhost:8080/"
        },
        "id": "7tl9SbB1n5CR",
        "outputId": "ef44163c-ffbd-4e12-ffae-ffd619b842ce"
      },
      "source": [
        "df['Closed Date']= pd.to_datetime(df['Closed Date'])\n",
        "df['Created Date']= pd.to_datetime(df['Created Date'])\n",
        "df.dtypes"
      ],
      "execution_count": null,
      "outputs": [
        {
          "output_type": "execute_result",
          "data": {
            "text/plain": [
              "Unique Key                                 int64\n",
              "Created Date                      datetime64[ns]\n",
              "Closed Date                       datetime64[ns]\n",
              "Agency                                    object\n",
              "Agency Name                               object\n",
              "Complaint Type                            object\n",
              "Descriptor                                object\n",
              "Location Type                             object\n",
              "Incident Zip                              object\n",
              "Incident Address                          object\n",
              "Street Name                               object\n",
              "City                                      object\n",
              "Status                                    object\n",
              "Due Date                                  object\n",
              "Resolution Description                    object\n",
              "Resolution Action Updated Date            object\n",
              "Community Board                           object\n",
              "Borough                                   object\n",
              "X Coordinate (State Plane)               float64\n",
              "Y Coordinate (State Plane)               float64\n",
              "Park Facility Name                        object\n",
              "Park Borough                              object\n",
              "Latitude                                 float64\n",
              "Longitude                                float64\n",
              "Location                                  object\n",
              "dtype: object"
            ]
          },
          "metadata": {
            "tags": []
          },
          "execution_count": 7
        }
      ]
    },
    {
      "cell_type": "markdown",
      "metadata": {
        "id": "zHvtbNiWb8Ne"
      },
      "source": [
        "### Adding new columns and calculating resolution time"
      ]
    },
    {
      "cell_type": "code",
      "metadata": {
        "colab": {
          "base_uri": "https://localhost:8080/"
        },
        "id": "2ZrwA7lffzAt",
        "outputId": "98701be7-0a3b-49dd-893b-817f7f98896d"
      },
      "source": [
        "df['Resolution_Time'] = (df['Closed Date'] - df['Created Date']).dt.days    \n",
        "df = df[df['Resolution_Time'].notnull()]\n",
        "df = df[df['Closed Date'] >= df['Created Date']]\n",
        "df['Day of Week'] = df['Created Date'].dt.dayofweek\n",
        "df['Day of Month'] = df['Created Date'].dt.day\n",
        "df['Month'] = df['Created Date'].dt.month\n",
        "df['Year'] = df['Created Date'].dt.year\n",
        "df.dtypes\n"
      ],
      "execution_count": null,
      "outputs": [
        {
          "output_type": "execute_result",
          "data": {
            "text/plain": [
              "Unique Key                                 int64\n",
              "Created Date                      datetime64[ns]\n",
              "Closed Date                       datetime64[ns]\n",
              "Agency                                    object\n",
              "Agency Name                               object\n",
              "Complaint Type                            object\n",
              "Descriptor                                object\n",
              "Location Type                             object\n",
              "Incident Zip                              object\n",
              "Incident Address                          object\n",
              "Street Name                               object\n",
              "City                                      object\n",
              "Status                                    object\n",
              "Due Date                                  object\n",
              "Resolution Description                    object\n",
              "Resolution Action Updated Date            object\n",
              "Community Board                           object\n",
              "Borough                                   object\n",
              "X Coordinate (State Plane)               float64\n",
              "Y Coordinate (State Plane)               float64\n",
              "Park Facility Name                        object\n",
              "Park Borough                              object\n",
              "Latitude                                 float64\n",
              "Longitude                                float64\n",
              "Location                                  object\n",
              "Resolution_Time                          float64\n",
              "Day of Week                                int64\n",
              "Day of Month                               int64\n",
              "Month                                      int64\n",
              "Year                                       int64\n",
              "dtype: object"
            ]
          },
          "metadata": {
            "tags": []
          },
          "execution_count": 8
        }
      ]
    },
    {
      "cell_type": "markdown",
      "metadata": {
        "id": "C7jdWIlac_Zj"
      },
      "source": [
        ""
      ]
    },
    {
      "cell_type": "code",
      "metadata": {
        "colab": {
          "base_uri": "https://localhost:8080/"
        },
        "id": "TB7MDxpFhXHE",
        "outputId": "3f31e945-4b0d-4c8b-e10e-064ef6e38642"
      },
      "source": [
        "df[\"Month\"].nunique()"
      ],
      "execution_count": null,
      "outputs": [
        {
          "output_type": "execute_result",
          "data": {
            "text/plain": [
              "12"
            ]
          },
          "metadata": {
            "tags": []
          },
          "execution_count": 9
        }
      ]
    },
    {
      "cell_type": "markdown",
      "metadata": {
        "id": "-J7Oa8scf5fg"
      },
      "source": [
        "## Exploratory Data Analysis(EDA)"
      ]
    },
    {
      "cell_type": "markdown",
      "metadata": {
        "id": "Ln0YWAdINHD9"
      },
      "source": [
        "### Exploring over the type of complaints in New York in 2011"
      ]
    },
    {
      "cell_type": "code",
      "metadata": {
        "colab": {
          "base_uri": "https://localhost:8080/",
          "height": 502
        },
        "id": "_weAuFoZNON8",
        "outputId": "11b9941e-2a86-47eb-a8cc-ea8c71a48da7"
      },
      "source": [
        "top_complains = (df['Complaint Type'].value_counts()).head(25)\n",
        "top_complains.plot(kind='bar', figsize=(9,5), title = 'Top Complaints')"
      ],
      "execution_count": null,
      "outputs": [
        {
          "output_type": "execute_result",
          "data": {
            "text/plain": [
              "<matplotlib.axes._subplots.AxesSubplot at 0x7f3af5a21208>"
            ]
          },
          "metadata": {
            "tags": []
          },
          "execution_count": 10
        },
        {
          "output_type": "display_data",
          "data": {
            "image/png": "[encoded data removed]",
            "text/plain": [
              "<Figure size 648x360 with 1 Axes>"
            ]
          },
          "metadata": {
            "tags": [],
            "needs_background": "light"
          }
        }
      ]
    },
    {
      "cell_type": "code",
      "metadata": {
        "colab": {
          "base_uri": "https://localhost:8080/",
          "height": 513
        },
        "id": "EV9T2IMPNw6W",
        "outputId": "960d347a-a72e-43bb-ab8d-a5fb44806956"
      },
      "source": [
        "least_complains = (df['Complaint Type'].value_counts()).tail(25)\n",
        "least_complains.plot(kind='bar',figsize=(9,5),  title = 'Least frequent Complaints')"
      ],
      "execution_count": null,
      "outputs": [
        {
          "output_type": "execute_result",
          "data": {
            "text/plain": [
              "<matplotlib.axes._subplots.AxesSubplot at 0x7f3afce6a748>"
            ]
          },
          "metadata": {
            "tags": []
          },
          "execution_count": 11
        },
        {
          "output_type": "display_data",
          "data": {
            "image/png": "[encoded data removed]",
            "text/plain": [
              "<Figure size 648x360 with 1 Axes>"
            ]
          },
          "metadata": {
            "tags": [],
            "needs_background": "light"
          }
        }
      ]
    },
    {
      "cell_type": "code",
      "metadata": {
        "colab": {
          "base_uri": "https://localhost:8080/",
          "height": 367
        },
        "id": "Xvolf0YViwRc",
        "outputId": "eca63e1e-bb69-4062-84cf-4a69d54619e0"
      },
      "source": [
        "df_heat = df[df[\"Complaint Type\"] == \"HEATING\"]\n",
        "df_heat['Month'].value_counts().plot(kind = 'bar',\n",
        "                                               figsize = (9,5),\n",
        "                                               title = 'Volume of issues by Month\\n')\n",
        "plt.xlabel('Month Number')\n",
        "plt.ylabel('Volume of issues')\n",
        "plt.show()"
      ],
      "execution_count": null,
      "outputs": [
        {
          "output_type": "display_data",
          "data": {
            "image/png": "[encoded data removed]",
            "text/plain": [
              "<Figure size 648x360 with 1 Axes>"
            ]
          },
          "metadata": {
            "tags": [],
            "needs_background": "light"
          }
        }
      ]
    },
    {
      "cell_type": "markdown",
      "metadata": {
        "id": "utg6t0-mjRJB"
      },
      "source": [
        "The heat complaints come though Nov to Feb, signifying that these are the months of Winter in NY."
      ]
    },
    {
      "cell_type": "markdown",
      "metadata": {
        "id": "bggir7VAPJGZ"
      },
      "source": [
        "##Exploring the geography of spread of quality of air in NewYork "
      ]
    },
    {
      "cell_type": "code",
      "metadata": {
        "id": "yBI54p4SN-nc"
      },
      "source": [
        "df_AirQuality = df[df['Complaint Type'] == 'Air Quality']\n",
        "#df_AirQuality.plot(kind='hexbin', x = 'Longitude', y = 'Latitude', gridsize = 40, colormap = 'jet', mincnt = 1, title = 'Air Quality issues across NYC\\n', figsize = (10,6)).axis('equal')"
      ],
      "execution_count": null,
      "outputs": []
    },
    {
      "cell_type": "code",
      "metadata": {
        "colab": {
          "base_uri": "https://localhost:8080/",
          "height": 310
        },
        "id": "coIdaw0uN8Eq",
        "outputId": "6648f121-67a0-4c0a-a103-d885195494bd"
      },
      "source": [
        "plt.scatter(df_AirQuality['Longitude'], df_AirQuality['Latitude'], color = 'red', alpha = 0.5)\n",
        "plt.title('Air Quality issues across NewYork\\n')\n",
        "plt.xlabel('Longitude')\n",
        "plt.ylabel('Latitude')\n",
        "plt.show()"
      ],
      "execution_count": null,
      "outputs": [
        {
          "output_type": "display_data",
          "data": {
            "image/png": "[encoded data removed]",
            "text/plain": [
              "<Figure size 432x288 with 1 Axes>"
            ]
          },
          "metadata": {
            "tags": [],
            "needs_background": "light"
          }
        }
      ]
    },
    {
      "cell_type": "markdown",
      "metadata": {
        "id": "GDbK-3AuNQ6A"
      },
      "source": [
        "### Complaint distribution across Boroughs"
      ]
    },
    {
      "cell_type": "code",
      "metadata": {
        "colab": {
          "base_uri": "https://localhost:8080/",
          "height": 351
        },
        "id": "8e1XsPezN4st",
        "outputId": "b4a7a5eb-5853-4acd-c2f4-05e8c76b0362"
      },
      "source": [
        "df['Borough'].value_counts().plot(kind = 'pie', autopct='%1.1f%%', figsize=(9,5), explode=[0, 0.2,0, 0, 0, 0], title = 'Number of complaints distribution across Boroughs\\n')"
      ],
      "execution_count": null,
      "outputs": [
        {
          "output_type": "execute_result",
          "data": {
            "text/plain": [
              "<matplotlib.axes._subplots.AxesSubplot at 0x7f3af05d9278>"
            ]
          },
          "metadata": {
            "tags": []
          },
          "execution_count": 15
        },
        {
          "output_type": "display_data",
          "data": {
            "image/png": "[encoded data removed]",
            "text/plain": [
              "<Figure size 648x360 with 1 Axes>"
            ]
          },
          "metadata": {
            "tags": []
          }
        }
      ]
    },
    {
      "cell_type": "markdown",
      "metadata": {
        "id": "UPZvcbc1OCsu"
      },
      "source": [
        "## Focusing our analysis for the largest district: Queens\n"
      ]
    },
    {
      "cell_type": "code",
      "metadata": {
        "id": "AxQxl3KjOGyI"
      },
      "source": [
        "df_Queens = df[df['Borough'] == 'QUEENS']"
      ],
      "execution_count": null,
      "outputs": []
    },
    {
      "cell_type": "code",
      "metadata": {
        "id": "I8ilwtSbOHYp",
        "colab": {
          "base_uri": "https://localhost:8080/",
          "height": 360
        },
        "outputId": "51ba7522-9c77-40b6-a032-55ac23aa93ec"
      },
      "source": [
        "df_Queens.describe()"
      ],
      "execution_count": null,
      "outputs": [
        {
          "output_type": "execute_result",
          "data": {
            "text/html": [
              "<div>\n",
              "<style scoped>\n",
              "    .dataframe tbody tr th:only-of-type {\n",
              "        vertical-align: middle;\n",
              "    }\n",
              "\n",
              "    .dataframe tbody tr th {\n",
              "        vertical-align: top;\n",
              "    }\n",
              "\n",
              "    .dataframe thead th {\n",
              "        text-align: right;\n",
              "    }\n",
              "</style>\n",
              "<table border=\"1\" class=\"dataframe\">\n",
              "  <thead>\n",
              "    <tr style=\"text-align: right;\">\n",
              "      <th></th>\n",
              "      <th>Unique Key</th>\n",
              "      <th>X Coordinate (State Plane)</th>\n",
              "      <th>Y Coordinate (State Plane)</th>\n",
              "      <th>Latitude</th>\n",
              "      <th>Longitude</th>\n",
              "      <th>Resolution_Time</th>\n",
              "      <th>Day of Week</th>\n",
              "      <th>Day of Month</th>\n",
              "      <th>Month</th>\n",
              "      <th>Year</th>\n",
              "    </tr>\n",
              "  </thead>\n",
              "  <tbody>\n",
              "    <tr>\n",
              "      <th>count</th>\n",
              "      <td>3.846530e+05</td>\n",
              "      <td>3.414400e+05</td>\n",
              "      <td>341440.000000</td>\n",
              "      <td>341440.000000</td>\n",
              "      <td>341440.000000</td>\n",
              "      <td>384653.000000</td>\n",
              "      <td>384653.000000</td>\n",
              "      <td>384653.000000</td>\n",
              "      <td>384653.000000</td>\n",
              "      <td>384653.0</td>\n",
              "    </tr>\n",
              "    <tr>\n",
              "      <th>mean</th>\n",
              "      <td>2.090270e+07</td>\n",
              "      <td>1.030769e+06</td>\n",
              "      <td>201130.051409</td>\n",
              "      <td>40.718595</td>\n",
              "      <td>-73.832197</td>\n",
              "      <td>20.775405</td>\n",
              "      <td>2.616088</td>\n",
              "      <td>15.761299</td>\n",
              "      <td>6.750721</td>\n",
              "      <td>2011.0</td>\n",
              "    </tr>\n",
              "    <tr>\n",
              "      <th>std</th>\n",
              "      <td>8.094862e+05</td>\n",
              "      <td>1.614256e+04</td>\n",
              "      <td>15864.911722</td>\n",
              "      <td>0.043575</td>\n",
              "      <td>0.058198</td>\n",
              "      <td>81.448623</td>\n",
              "      <td>1.844757</td>\n",
              "      <td>8.860978</td>\n",
              "      <td>3.330469</td>\n",
              "      <td>0.0</td>\n",
              "    </tr>\n",
              "    <tr>\n",
              "      <th>min</th>\n",
              "      <td>1.950305e+07</td>\n",
              "      <td>9.822440e+05</td>\n",
              "      <td>141416.000000</td>\n",
              "      <td>40.554810</td>\n",
              "      <td>-74.007239</td>\n",
              "      <td>0.000000</td>\n",
              "      <td>0.000000</td>\n",
              "      <td>1.000000</td>\n",
              "      <td>1.000000</td>\n",
              "      <td>2011.0</td>\n",
              "    </tr>\n",
              "    <tr>\n",
              "      <th>25%</th>\n",
              "      <td>2.024946e+07</td>\n",
              "      <td>1.017887e+06</td>\n",
              "      <td>191910.000000</td>\n",
              "      <td>40.693266</td>\n",
              "      <td>-73.878627</td>\n",
              "      <td>0.000000</td>\n",
              "      <td>1.000000</td>\n",
              "      <td>8.000000</td>\n",
              "      <td>4.000000</td>\n",
              "      <td>2011.0</td>\n",
              "    </tr>\n",
              "    <tr>\n",
              "      <th>50%</th>\n",
              "      <td>2.083738e+07</td>\n",
              "      <td>1.031211e+06</td>\n",
              "      <td>202870.000000</td>\n",
              "      <td>40.723368</td>\n",
              "      <td>-73.830621</td>\n",
              "      <td>1.000000</td>\n",
              "      <td>3.000000</td>\n",
              "      <td>16.000000</td>\n",
              "      <td>7.000000</td>\n",
              "      <td>2011.0</td>\n",
              "    </tr>\n",
              "    <tr>\n",
              "      <th>75%</th>\n",
              "      <td>2.157007e+07</td>\n",
              "      <td>1.042979e+06</td>\n",
              "      <td>213435.000000</td>\n",
              "      <td>40.752396</td>\n",
              "      <td>-73.788148</td>\n",
              "      <td>10.000000</td>\n",
              "      <td>4.000000</td>\n",
              "      <td>23.000000</td>\n",
              "      <td>10.000000</td>\n",
              "      <td>2011.0</td>\n",
              "    </tr>\n",
              "    <tr>\n",
              "      <th>max</th>\n",
              "      <td>3.356820e+07</td>\n",
              "      <td>1.067283e+06</td>\n",
              "      <td>230954.000000</td>\n",
              "      <td>40.800464</td>\n",
              "      <td>-73.700369</td>\n",
              "      <td>1812.000000</td>\n",
              "      <td>6.000000</td>\n",
              "      <td>31.000000</td>\n",
              "      <td>12.000000</td>\n",
              "      <td>2011.0</td>\n",
              "    </tr>\n",
              "  </tbody>\n",
              "</table>\n",
              "</div>"
            ],
            "text/plain": [
              "         Unique Key  X Coordinate (State Plane)  ...          Month      Year\n",
              "count  3.846530e+05                3.414400e+05  ...  384653.000000  384653.0\n",
              "mean   2.090270e+07                1.030769e+06  ...       6.750721    2011.0\n",
              "std    8.094862e+05                1.614256e+04  ...       3.330469       0.0\n",
              "min    1.950305e+07                9.822440e+05  ...       1.000000    2011.0\n",
              "25%    2.024946e+07                1.017887e+06  ...       4.000000    2011.0\n",
              "50%    2.083738e+07                1.031211e+06  ...       7.000000    2011.0\n",
              "75%    2.157007e+07                1.042979e+06  ...      10.000000    2011.0\n",
              "max    3.356820e+07                1.067283e+06  ...      12.000000    2011.0\n",
              "\n",
              "[8 rows x 10 columns]"
            ]
          },
          "metadata": {
            "tags": []
          },
          "execution_count": 17
        }
      ]
    },
    {
      "cell_type": "code",
      "metadata": {
        "id": "uEFnWb6nOJkS",
        "colab": {
          "base_uri": "https://localhost:8080/",
          "height": 502
        },
        "outputId": "1890e517-7858-4480-8273-88dad8ea8b11"
      },
      "source": [
        "(df_Queens['Complaint Type'].value_counts()).head(25).plot(kind = 'bar',\n",
        "                                                              figsize = (9,5),\n",
        "                                                              color = \"orange\",\n",
        "                                                              title = 'Top Complaints in Queens')\n"
      ],
      "execution_count": null,
      "outputs": [
        {
          "output_type": "execute_result",
          "data": {
            "text/plain": [
              "<matplotlib.axes._subplots.AxesSubplot at 0x7f3aeabaddd8>"
            ]
          },
          "metadata": {
            "tags": []
          },
          "execution_count": 18
        },
        {
          "output_type": "display_data",
          "data": {
            "image/png": "[encoded data removed]",
            "text/plain": [
              "<Figure size 648x360 with 1 Axes>"
            ]
          },
          "metadata": {
            "tags": [],
            "needs_background": "light"
          }
        }
      ]
    },
    {
      "cell_type": "code",
      "metadata": {
        "id": "_aNr3T92ya1b",
        "colab": {
          "base_uri": "https://localhost:8080/",
          "height": 530
        },
        "outputId": "3c1e43b3-c472-4423-fed9-e416edd4e625"
      },
      "source": [
        "(df_Queens['Complaint Type'].value_counts()).tail(25).plot(kind = 'bar',\n",
        "                                                              figsize = (9,5),\n",
        "                                                               color = \"orange\",\n",
        "                                                              title = 'Least frequent Complaints in Queens')"
      ],
      "execution_count": null,
      "outputs": [
        {
          "output_type": "execute_result",
          "data": {
            "text/plain": [
              "<matplotlib.axes._subplots.AxesSubplot at 0x7f3aebd09710>"
            ]
          },
          "metadata": {
            "tags": []
          },
          "execution_count": 19
        },
        {
          "output_type": "display_data",
          "data": {
            "image/png": "[encoded data removed]",
            "text/plain": [
              "<Figure size 648x360 with 1 Axes>"
            ]
          },
          "metadata": {
            "tags": [],
            "needs_background": "light"
          }
        }
      ]
    },
    {
      "cell_type": "code",
      "metadata": {
        "id": "rblqhWImOLmr",
        "colab": {
          "base_uri": "https://localhost:8080/",
          "height": 469
        },
        "outputId": "92ee3198-837c-444b-cd19-86b0f29f8a6d"
      },
      "source": [
        "plt.figure()\n",
        "avgrstm_ct = df_Queens.groupby('Complaint Type').Resolution_Time.mean()\n",
        "top_complains = df_Queens['Complaint Type'].value_counts().head(25)\n",
        "avgrstm_ct = avgrstm_ct.loc[top_complains.index]\n",
        "avgrstm_ct.head(15).plot(kind = 'bar',\n",
        "                  figsize = (9,5),\n",
        "                  color = \"orange\",\n",
        "                  title = 'Avg Response Time of Complaints')\n",
        "plt.xlabel('Complaint Type')\n",
        "plt.ylabel('Average Response Time')\n",
        "plt.show()"
      ],
      "execution_count": null,
      "outputs": [
        {
          "output_type": "display_data",
          "data": {
            "image/png": "[encoded data removed]",
            "text/plain": [
              "<Figure size 648x360 with 1 Axes>"
            ]
          },
          "metadata": {
            "tags": [],
            "needs_background": "light"
          }
        }
      ]
    },
    {
      "cell_type": "code",
      "metadata": {
        "id": "fj5l7t9ROUBT"
      },
      "source": [
        "# avgrstm_ct.head(15).plot(kind = 'line',\n",
        "#                   figsize = (9,5),\n",
        "#                   rot = 90,\n",
        "#                   color = \"red\",\n",
        "#                   title = 'Avg Response Time of Complaints')"
      ],
      "execution_count": null,
      "outputs": []
    },
    {
      "cell_type": "markdown",
      "metadata": {
        "id": "ShZWFeU7OXl-"
      },
      "source": [
        "We see that, generally, noise and illegal parking issues are resolved on the same day; while issues like unsanitary conditions and plumbing take relatively long times to resolve."
      ]
    },
    {
      "cell_type": "code",
      "metadata": {
        "id": "uUU7Utb1OU4l",
        "colab": {
          "base_uri": "https://localhost:8080/",
          "height": 379
        },
        "outputId": "67f224e5-da2e-4655-9f4c-968926d0a9ed"
      },
      "source": [
        "plt.figure()\n",
        "avgrstm_ag = df_Queens.groupby('Agency').Resolution_Time.mean()\n",
        "agency = df_Queens['Agency'].value_counts().head(25)\n",
        "avgrstm_ag = avgrstm_ag.loc[agency.index]\n",
        "avgrstm_ag.head(25).plot(kind = 'bar',\n",
        "                  figsize = (9,5),\n",
        "                  color = \"orange\",\n",
        "                  title = 'Avg Response Time of Complaints')\n",
        "plt.xlabel('Agencies')\n",
        "plt.ylabel('Average Response Time')\n",
        "plt.show()"
      ],
      "execution_count": null,
      "outputs": [
        {
          "output_type": "display_data",
          "data": {
            "image/png": "[encoded data removed]",
            "text/plain": [
              "<Figure size 648x360 with 1 Axes>"
            ]
          },
          "metadata": {
            "tags": [],
            "needs_background": "light"
          }
        }
      ]
    },
    {
      "cell_type": "markdown",
      "metadata": {
        "id": "yAp35V29OEMg"
      },
      "source": [
        "From the above graph we can conclude that NYPD and 3-1-1 are the most efficient agencies with the least avg response time. These are also the agencies which generally solve the most number of complaints."
      ]
    },
    {
      "cell_type": "code",
      "metadata": {
        "id": "fiiz2aLnOi7F",
        "colab": {
          "base_uri": "https://localhost:8080/",
          "height": 533
        },
        "outputId": "0be3c3f0-3ddc-49bb-e283-069585ae34a0"
      },
      "source": [
        "(df_Queens['Location Type'].value_counts()).head(25).plot(kind = 'bar', \n",
        "                                                             figsize = (10,6),\n",
        "                                                             color = \"orange\",\n",
        "                                                             title = 'Location Type vs Number of Complaints')"
      ],
      "execution_count": null,
      "outputs": [
        {
          "output_type": "execute_result",
          "data": {
            "text/plain": [
              "<matplotlib.axes._subplots.AxesSubplot at 0x7f3afbe16a90>"
            ]
          },
          "metadata": {
            "tags": []
          },
          "execution_count": 23
        },
        {
          "output_type": "display_data",
          "data": {
            "image/png": "[encoded data removed]",
            "text/plain": [
              "<Figure size 720x432 with 1 Axes>"
            ]
          },
          "metadata": {
            "tags": [],
            "needs_background": "light"
          }
        }
      ]
    },
    {
      "cell_type": "markdown",
      "metadata": {
        "id": "o9qpfFWpOrEP"
      },
      "source": [
        "This graph is telling us that most number of complaints in 2011 came from either street or residential locations. We can relate that most common complaint type is Street condition/ lighting followed blocked driveways and residential noise issues and these must be coming from streets followed by resedential buildings."
      ]
    },
    {
      "cell_type": "code",
      "metadata": {
        "id": "sr5-qmUsOymY",
        "colab": {
          "base_uri": "https://localhost:8080/",
          "height": 354
        },
        "outputId": "e1d24eee-e4f7-4a2b-ffbf-703925e27878"
      },
      "source": [
        "df_Queens.plot(kind = 'hexbin', \n",
        "                  x = 'Longitude', \n",
        "                  y = 'Latitude',\n",
        "                  gridsize = 40, \n",
        "                  colormap = 'jet',\n",
        "                  mincnt = 1,\n",
        "                  title = 'Complaints concentration across Queens\\n', \n",
        "                  figsize = (9,5)).axis('equal')"
      ],
      "execution_count": null,
      "outputs": [
        {
          "output_type": "execute_result",
          "data": {
            "text/plain": [
              "(-74.02258277211784, -73.6850255801132, 40.54252779637171, 40.812746775910405)"
            ]
          },
          "metadata": {
            "tags": []
          },
          "execution_count": 24
        },
        {
          "output_type": "display_data",
          "data": {
            "image/png": "[encoded data removed]",
            "text/plain": [
              "<Figure size 648x360 with 2 Axes>"
            ]
          },
          "metadata": {
            "tags": [],
            "needs_background": "light"
          }
        }
      ]
    },
    {
      "cell_type": "markdown",
      "metadata": {
        "id": "iFbaK98gO3Aw"
      },
      "source": [
        "## Lets work with the most common complain in Queens: Street Conditions"
      ]
    },
    {
      "cell_type": "code",
      "metadata": {
        "id": "1U4pn3qmdkAi"
      },
      "source": [
        ""
      ],
      "execution_count": null,
      "outputs": []
    },
    {
      "cell_type": "code",
      "metadata": {
        "id": "6nSRgsAIO6_X",
        "colab": {
          "base_uri": "https://localhost:8080/"
        },
        "outputId": "c7153efa-e501-45fc-b505-ef199b3358be"
      },
      "source": [
        "df[df['Complaint Type'] == 'Street Condition']['Descriptor'].value_counts()"
      ],
      "execution_count": null,
      "outputs": [
        {
          "output_type": "execute_result",
          "data": {
            "text/plain": [
              "Pothole                           56740\n",
              "Failed Street Repair              12827\n",
              "Cave-in                           12188\n",
              "Defective Hardware                 7232\n",
              "Rough, Pitted or Cracked Roads     5847\n",
              "Plate Condition - Noisy            2222\n",
              "Blocked - Construction             1484\n",
              "Line/Marking - Faded               1004\n",
              "Plate Condition - Shifted           901\n",
              "Unsafe Worksite                     669\n",
              "Plate Condition - Open              494\n",
              "Line/Marking - After Repaving       293\n",
              "Guard Rail - Street                  87\n",
              "Crash Cushion Defect                 46\n",
              "Wear & Tear                           5\n",
              "Name: Descriptor, dtype: int64"
            ]
          },
          "metadata": {
            "tags": []
          },
          "execution_count": 25
        }
      ]
    },
    {
      "cell_type": "code",
      "metadata": {
        "id": "9xGbA4SkO9Rd"
      },
      "source": [
        "df_QueensTopComplaint = df_Queens[df_Queens['Complaint Type'] == 'Street Condition']"
      ],
      "execution_count": null,
      "outputs": []
    },
    {
      "cell_type": "code",
      "metadata": {
        "id": "55zUVRzPO919",
        "colab": {
          "base_uri": "https://localhost:8080/",
          "height": 354
        },
        "outputId": "06a57d62-d1cc-4b22-8134-10dbbbe8300b"
      },
      "source": [
        "df_QueensTopComplaint[df_QueensTopComplaint['Complaint Type'] == 'Street Condition'].plot(kind = 'hexbin',\n",
        "                                                                                x ='Longitude', \n",
        "                                                                                y ='Latitude', \n",
        "                                                                                gridsize = 40,\n",
        "                                                                                title = 'Street complaint concentration across Queens\\n',\n",
        "                                                                                colormap = 'jet', \n",
        "                                                                                mincnt = 1, \n",
        "                                                                                figsize = (9,5)).axis('equal')"
      ],
      "execution_count": null,
      "outputs": [
        {
          "output_type": "execute_result",
          "data": {
            "text/plain": [
              "(-73.9720317306979, -73.68767137611015, 40.54488776319476, 40.811712836015275)"
            ]
          },
          "metadata": {
            "tags": []
          },
          "execution_count": 27
        },
        {
          "output_type": "display_data",
          "data": {
            "image/png": "[encoded data removed]",
            "text/plain": [
              "<Figure size 648x360 with 2 Axes>"
            ]
          },
          "metadata": {
            "tags": [],
            "needs_background": "light"
          }
        }
      ]
    },
    {
      "cell_type": "code",
      "metadata": {
        "id": "lH4BnMcBPA-b",
        "colab": {
          "base_uri": "https://localhost:8080/",
          "height": 367
        },
        "outputId": "cd16bd4f-ebe1-40ad-9068-6e14d6965c54"
      },
      "source": [
        "df_QueensTopComplaint['Month'].value_counts().plot(kind = 'bar',\n",
        "                                               figsize = (9,5),\n",
        "                                               color = \"orange\",\n",
        "                                               title = 'Volume of issues by Month\\n')\n",
        "plt.xlabel('Month Number')\n",
        "plt.ylabel('Volume of issues')\n",
        "plt.show()"
      ],
      "execution_count": null,
      "outputs": [
        {
          "output_type": "display_data",
          "data": {
            "image/png": "[encoded data removed]",
            "text/plain": [
              "<Figure size 648x360 with 1 Axes>"
            ]
          },
          "metadata": {
            "tags": [],
            "needs_background": "light"
          }
        }
      ]
    },
    {
      "cell_type": "markdown",
      "metadata": {
        "id": "t7OIZpCdPD7q"
      },
      "source": [
        "We can see that heat issues are most common in the months of Feb March i.e. during winter days, probably due to roads blocks in the snow and malfunctionting of street lamps."
      ]
    },
    {
      "cell_type": "markdown",
      "metadata": {
        "id": "Ekrsd1uxPKW3"
      },
      "source": [
        "### Predicting the resolution time for Street issues in Queens"
      ]
    },
    {
      "cell_type": "code",
      "metadata": {
        "id": "nVF3QQzMPLoM",
        "colab": {
          "base_uri": "https://localhost:8080/",
          "height": 950
        },
        "outputId": "bad6b75d-6538-470b-a3a2-07995c58a7f7"
      },
      "source": [
        "totalnull = df_QueensTopComplaint.isnull().sum()\n",
        "totaldistinct = df_QueensTopComplaint.nunique(dropna = True)\n",
        "output_data = pd.DataFrame({'Null':totalnull, 'Distinct':totaldistinct}) \n",
        "output_data"
      ],
      "execution_count": null,
      "outputs": [
        {
          "output_type": "execute_result",
          "data": {
            "text/html": [
              "<div>\n",
              "<style scoped>\n",
              "    .dataframe tbody tr th:only-of-type {\n",
              "        vertical-align: middle;\n",
              "    }\n",
              "\n",
              "    .dataframe tbody tr th {\n",
              "        vertical-align: top;\n",
              "    }\n",
              "\n",
              "    .dataframe thead th {\n",
              "        text-align: right;\n",
              "    }\n",
              "</style>\n",
              "<table border=\"1\" class=\"dataframe\">\n",
              "  <thead>\n",
              "    <tr style=\"text-align: right;\">\n",
              "      <th></th>\n",
              "      <th>Null</th>\n",
              "      <th>Distinct</th>\n",
              "    </tr>\n",
              "  </thead>\n",
              "  <tbody>\n",
              "    <tr>\n",
              "      <th>Unique Key</th>\n",
              "      <td>0</td>\n",
              "      <td>27920</td>\n",
              "    </tr>\n",
              "    <tr>\n",
              "      <th>Created Date</th>\n",
              "      <td>0</td>\n",
              "      <td>27841</td>\n",
              "    </tr>\n",
              "    <tr>\n",
              "      <th>Closed Date</th>\n",
              "      <td>0</td>\n",
              "      <td>24620</td>\n",
              "    </tr>\n",
              "    <tr>\n",
              "      <th>Agency</th>\n",
              "      <td>0</td>\n",
              "      <td>1</td>\n",
              "    </tr>\n",
              "    <tr>\n",
              "      <th>Agency Name</th>\n",
              "      <td>0</td>\n",
              "      <td>1</td>\n",
              "    </tr>\n",
              "    <tr>\n",
              "      <th>Complaint Type</th>\n",
              "      <td>0</td>\n",
              "      <td>1</td>\n",
              "    </tr>\n",
              "    <tr>\n",
              "      <th>Descriptor</th>\n",
              "      <td>0</td>\n",
              "      <td>14</td>\n",
              "    </tr>\n",
              "    <tr>\n",
              "      <th>Location Type</th>\n",
              "      <td>16044</td>\n",
              "      <td>1</td>\n",
              "    </tr>\n",
              "    <tr>\n",
              "      <th>Incident Zip</th>\n",
              "      <td>1777</td>\n",
              "      <td>133</td>\n",
              "    </tr>\n",
              "    <tr>\n",
              "      <th>Incident Address</th>\n",
              "      <td>11704</td>\n",
              "      <td>9730</td>\n",
              "    </tr>\n",
              "    <tr>\n",
              "      <th>Street Name</th>\n",
              "      <td>11704</td>\n",
              "      <td>1476</td>\n",
              "    </tr>\n",
              "    <tr>\n",
              "      <th>City</th>\n",
              "      <td>1554</td>\n",
              "      <td>43</td>\n",
              "    </tr>\n",
              "    <tr>\n",
              "      <th>Status</th>\n",
              "      <td>0</td>\n",
              "      <td>1</td>\n",
              "    </tr>\n",
              "    <tr>\n",
              "      <th>Due Date</th>\n",
              "      <td>16044</td>\n",
              "      <td>11235</td>\n",
              "    </tr>\n",
              "    <tr>\n",
              "      <th>Resolution Description</th>\n",
              "      <td>365</td>\n",
              "      <td>57</td>\n",
              "    </tr>\n",
              "    <tr>\n",
              "      <th>Resolution Action Updated Date</th>\n",
              "      <td>0</td>\n",
              "      <td>25501</td>\n",
              "    </tr>\n",
              "    <tr>\n",
              "      <th>Community Board</th>\n",
              "      <td>0</td>\n",
              "      <td>20</td>\n",
              "    </tr>\n",
              "    <tr>\n",
              "      <th>Borough</th>\n",
              "      <td>0</td>\n",
              "      <td>1</td>\n",
              "    </tr>\n",
              "    <tr>\n",
              "      <th>X Coordinate (State Plane)</th>\n",
              "      <td>1706</td>\n",
              "      <td>14009</td>\n",
              "    </tr>\n",
              "    <tr>\n",
              "      <th>Y Coordinate (State Plane)</th>\n",
              "      <td>1706</td>\n",
              "      <td>13810</td>\n",
              "    </tr>\n",
              "    <tr>\n",
              "      <th>Park Facility Name</th>\n",
              "      <td>0</td>\n",
              "      <td>1</td>\n",
              "    </tr>\n",
              "    <tr>\n",
              "      <th>Park Borough</th>\n",
              "      <td>0</td>\n",
              "      <td>1</td>\n",
              "    </tr>\n",
              "    <tr>\n",
              "      <th>Latitude</th>\n",
              "      <td>1706</td>\n",
              "      <td>16167</td>\n",
              "    </tr>\n",
              "    <tr>\n",
              "      <th>Longitude</th>\n",
              "      <td>1706</td>\n",
              "      <td>16167</td>\n",
              "    </tr>\n",
              "    <tr>\n",
              "      <th>Location</th>\n",
              "      <td>1706</td>\n",
              "      <td>16167</td>\n",
              "    </tr>\n",
              "    <tr>\n",
              "      <th>Resolution_Time</th>\n",
              "      <td>0</td>\n",
              "      <td>96</td>\n",
              "    </tr>\n",
              "    <tr>\n",
              "      <th>Day of Week</th>\n",
              "      <td>0</td>\n",
              "      <td>7</td>\n",
              "    </tr>\n",
              "    <tr>\n",
              "      <th>Day of Month</th>\n",
              "      <td>0</td>\n",
              "      <td>31</td>\n",
              "    </tr>\n",
              "    <tr>\n",
              "      <th>Month</th>\n",
              "      <td>0</td>\n",
              "      <td>12</td>\n",
              "    </tr>\n",
              "    <tr>\n",
              "      <th>Year</th>\n",
              "      <td>0</td>\n",
              "      <td>1</td>\n",
              "    </tr>\n",
              "  </tbody>\n",
              "</table>\n",
              "</div>"
            ],
            "text/plain": [
              "                                 Null  Distinct\n",
              "Unique Key                          0     27920\n",
              "Created Date                        0     27841\n",
              "Closed Date                         0     24620\n",
              "Agency                              0         1\n",
              "Agency Name                         0         1\n",
              "Complaint Type                      0         1\n",
              "Descriptor                          0        14\n",
              "Location Type                   16044         1\n",
              "Incident Zip                     1777       133\n",
              "Incident Address                11704      9730\n",
              "Street Name                     11704      1476\n",
              "City                             1554        43\n",
              "Status                              0         1\n",
              "Due Date                        16044     11235\n",
              "Resolution Description            365        57\n",
              "Resolution Action Updated Date      0     25501\n",
              "Community Board                     0        20\n",
              "Borough                             0         1\n",
              "X Coordinate (State Plane)       1706     14009\n",
              "Y Coordinate (State Plane)       1706     13810\n",
              "Park Facility Name                  0         1\n",
              "Park Borough                        0         1\n",
              "Latitude                         1706     16167\n",
              "Longitude                        1706     16167\n",
              "Location                         1706     16167\n",
              "Resolution_Time                     0        96\n",
              "Day of Week                         0         7\n",
              "Day of Month                        0        31\n",
              "Month                               0        12\n",
              "Year                                0         1"
            ]
          },
          "metadata": {
            "tags": []
          },
          "execution_count": 29
        }
      ]
    },
    {
      "cell_type": "markdown",
      "metadata": {
        "id": "eos2BneAPRGU"
      },
      "source": [
        "A function to extract the features for the model. The features chosen from the dataset are based on intuition. The descriptor variable is broken into dummy variables so that it can be converted into categorical data. Similarly Incident Zip column is manipulated for bringing down the scale of column."
      ]
    },
    {
      "cell_type": "code",
      "metadata": {
        "id": "K2K3GYQdPZ42"
      },
      "source": [
        "def buildFeatures(dataset):\n",
        "    df_features = dataset.filter(['Descriptor',\n",
        "                                  'Incident Zip',\n",
        "                                  'Resolution_Time',\n",
        "                                  'Day of Week',\n",
        "                                  'Day of Month',\n",
        "                                  'Month'], axis = 1)\n",
        "    data = pd.DataFrame({'descriptor': df_features.Descriptor})\n",
        "    dummies = pd.get_dummies(data)\n",
        "    df_model = pd.concat([df_features, dummies], axis = 1)\n",
        "    df_model = df_model.drop('Descriptor', 1)\n",
        "    df_model = df_model.dropna()\n",
        "    df_model['Incident Zip'] = df_model['Incident Zip'].astype(int)\n",
        "    df_model['Resolution_Time'] = df_model['Resolution_Time'].astype(int)\n",
        "    df_model['Incident Zip'] = df_model['Incident Zip'] - df_model['Incident Zip'].min()\n",
        "    return df_model"
      ],
      "execution_count": null,
      "outputs": []
    },
    {
      "cell_type": "code",
      "metadata": {
        "id": "OKn9f3udfDX8",
        "colab": {
          "base_uri": "https://localhost:8080/",
          "height": 462
        },
        "outputId": "3c6e1aa5-9bc3-4ac7-9ed1-cc0c98723bd4"
      },
      "source": [
        "df_new = buildFeatures(df_QueensTopComplaint)\n",
        "df_new"
      ],
      "execution_count": null,
      "outputs": [
        {
          "output_type": "execute_result",
          "data": {
            "text/html": [
              "<div>\n",
              "<style scoped>\n",
              "    .dataframe tbody tr th:only-of-type {\n",
              "        vertical-align: middle;\n",
              "    }\n",
              "\n",
              "    .dataframe tbody tr th {\n",
              "        vertical-align: top;\n",
              "    }\n",
              "\n",
              "    .dataframe thead th {\n",
              "        text-align: right;\n",
              "    }\n",
              "</style>\n",
              "<table border=\"1\" class=\"dataframe\">\n",
              "  <thead>\n",
              "    <tr style=\"text-align: right;\">\n",
              "      <th></th>\n",
              "      <th>Incident Zip</th>\n",
              "      <th>Resolution_Time</th>\n",
              "      <th>Day of Week</th>\n",
              "      <th>Day of Month</th>\n",
              "      <th>Month</th>\n",
              "      <th>descriptor_Blocked - Construction</th>\n",
              "      <th>descriptor_Cave-in</th>\n",
              "      <th>descriptor_Crash Cushion Defect</th>\n",
              "      <th>descriptor_Defective Hardware</th>\n",
              "      <th>descriptor_Failed Street Repair</th>\n",
              "      <th>descriptor_Guard Rail - Street</th>\n",
              "      <th>descriptor_Line/Marking - After Repaving</th>\n",
              "      <th>descriptor_Line/Marking - Faded</th>\n",
              "      <th>descriptor_Plate Condition - Noisy</th>\n",
              "      <th>descriptor_Plate Condition - Open</th>\n",
              "      <th>descriptor_Plate Condition - Shifted</th>\n",
              "      <th>descriptor_Pothole</th>\n",
              "      <th>descriptor_Rough, Pitted or Cracked Roads</th>\n",
              "      <th>descriptor_Unsafe Worksite</th>\n",
              "    </tr>\n",
              "  </thead>\n",
              "  <tbody>\n",
              "    <tr>\n",
              "      <th>1012</th>\n",
              "      <td>376</td>\n",
              "      <td>9</td>\n",
              "      <td>0</td>\n",
              "      <td>31</td>\n",
              "      <td>1</td>\n",
              "      <td>0</td>\n",
              "      <td>0</td>\n",
              "      <td>0</td>\n",
              "      <td>0</td>\n",
              "      <td>0</td>\n",
              "      <td>0</td>\n",
              "      <td>0</td>\n",
              "      <td>0</td>\n",
              "      <td>0</td>\n",
              "      <td>0</td>\n",
              "      <td>0</td>\n",
              "      <td>1</td>\n",
              "      <td>0</td>\n",
              "      <td>0</td>\n",
              "    </tr>\n",
              "    <tr>\n",
              "      <th>1777</th>\n",
              "      <td>420</td>\n",
              "      <td>3</td>\n",
              "      <td>4</td>\n",
              "      <td>18</td>\n",
              "      <td>2</td>\n",
              "      <td>0</td>\n",
              "      <td>0</td>\n",
              "      <td>0</td>\n",
              "      <td>0</td>\n",
              "      <td>0</td>\n",
              "      <td>0</td>\n",
              "      <td>0</td>\n",
              "      <td>0</td>\n",
              "      <td>0</td>\n",
              "      <td>0</td>\n",
              "      <td>0</td>\n",
              "      <td>1</td>\n",
              "      <td>0</td>\n",
              "      <td>0</td>\n",
              "    </tr>\n",
              "    <tr>\n",
              "      <th>2397</th>\n",
              "      <td>419</td>\n",
              "      <td>15</td>\n",
              "      <td>2</td>\n",
              "      <td>9</td>\n",
              "      <td>3</td>\n",
              "      <td>0</td>\n",
              "      <td>0</td>\n",
              "      <td>0</td>\n",
              "      <td>0</td>\n",
              "      <td>0</td>\n",
              "      <td>0</td>\n",
              "      <td>0</td>\n",
              "      <td>0</td>\n",
              "      <td>0</td>\n",
              "      <td>0</td>\n",
              "      <td>0</td>\n",
              "      <td>1</td>\n",
              "      <td>0</td>\n",
              "      <td>0</td>\n",
              "    </tr>\n",
              "    <tr>\n",
              "      <th>2457</th>\n",
              "      <td>431</td>\n",
              "      <td>8</td>\n",
              "      <td>0</td>\n",
              "      <td>14</td>\n",
              "      <td>3</td>\n",
              "      <td>0</td>\n",
              "      <td>0</td>\n",
              "      <td>0</td>\n",
              "      <td>0</td>\n",
              "      <td>0</td>\n",
              "      <td>0</td>\n",
              "      <td>0</td>\n",
              "      <td>0</td>\n",
              "      <td>0</td>\n",
              "      <td>0</td>\n",
              "      <td>0</td>\n",
              "      <td>1</td>\n",
              "      <td>0</td>\n",
              "      <td>0</td>\n",
              "    </tr>\n",
              "    <tr>\n",
              "      <th>3299</th>\n",
              "      <td>421</td>\n",
              "      <td>24</td>\n",
              "      <td>4</td>\n",
              "      <td>8</td>\n",
              "      <td>4</td>\n",
              "      <td>0</td>\n",
              "      <td>0</td>\n",
              "      <td>0</td>\n",
              "      <td>0</td>\n",
              "      <td>0</td>\n",
              "      <td>0</td>\n",
              "      <td>0</td>\n",
              "      <td>0</td>\n",
              "      <td>0</td>\n",
              "      <td>0</td>\n",
              "      <td>0</td>\n",
              "      <td>1</td>\n",
              "      <td>0</td>\n",
              "      <td>0</td>\n",
              "    </tr>\n",
              "    <tr>\n",
              "      <th>...</th>\n",
              "      <td>...</td>\n",
              "      <td>...</td>\n",
              "      <td>...</td>\n",
              "      <td>...</td>\n",
              "      <td>...</td>\n",
              "      <td>...</td>\n",
              "      <td>...</td>\n",
              "      <td>...</td>\n",
              "      <td>...</td>\n",
              "      <td>...</td>\n",
              "      <td>...</td>\n",
              "      <td>...</td>\n",
              "      <td>...</td>\n",
              "      <td>...</td>\n",
              "      <td>...</td>\n",
              "      <td>...</td>\n",
              "      <td>...</td>\n",
              "      <td>...</td>\n",
              "      <td>...</td>\n",
              "    </tr>\n",
              "    <tr>\n",
              "      <th>1703985</th>\n",
              "      <td>433</td>\n",
              "      <td>1</td>\n",
              "      <td>3</td>\n",
              "      <td>29</td>\n",
              "      <td>12</td>\n",
              "      <td>0</td>\n",
              "      <td>0</td>\n",
              "      <td>0</td>\n",
              "      <td>0</td>\n",
              "      <td>0</td>\n",
              "      <td>0</td>\n",
              "      <td>0</td>\n",
              "      <td>0</td>\n",
              "      <td>0</td>\n",
              "      <td>0</td>\n",
              "      <td>0</td>\n",
              "      <td>1</td>\n",
              "      <td>0</td>\n",
              "      <td>0</td>\n",
              "    </tr>\n",
              "    <tr>\n",
              "      <th>1703990</th>\n",
              "      <td>357</td>\n",
              "      <td>1</td>\n",
              "      <td>3</td>\n",
              "      <td>29</td>\n",
              "      <td>12</td>\n",
              "      <td>0</td>\n",
              "      <td>0</td>\n",
              "      <td>0</td>\n",
              "      <td>0</td>\n",
              "      <td>0</td>\n",
              "      <td>0</td>\n",
              "      <td>0</td>\n",
              "      <td>0</td>\n",
              "      <td>0</td>\n",
              "      <td>0</td>\n",
              "      <td>0</td>\n",
              "      <td>1</td>\n",
              "      <td>0</td>\n",
              "      <td>0</td>\n",
              "    </tr>\n",
              "    <tr>\n",
              "      <th>1703991</th>\n",
              "      <td>412</td>\n",
              "      <td>1</td>\n",
              "      <td>3</td>\n",
              "      <td>29</td>\n",
              "      <td>12</td>\n",
              "      <td>0</td>\n",
              "      <td>0</td>\n",
              "      <td>0</td>\n",
              "      <td>0</td>\n",
              "      <td>0</td>\n",
              "      <td>0</td>\n",
              "      <td>0</td>\n",
              "      <td>0</td>\n",
              "      <td>0</td>\n",
              "      <td>0</td>\n",
              "      <td>0</td>\n",
              "      <td>1</td>\n",
              "      <td>0</td>\n",
              "      <td>0</td>\n",
              "    </tr>\n",
              "    <tr>\n",
              "      <th>1703995</th>\n",
              "      <td>384</td>\n",
              "      <td>1</td>\n",
              "      <td>3</td>\n",
              "      <td>29</td>\n",
              "      <td>12</td>\n",
              "      <td>0</td>\n",
              "      <td>0</td>\n",
              "      <td>0</td>\n",
              "      <td>0</td>\n",
              "      <td>0</td>\n",
              "      <td>0</td>\n",
              "      <td>0</td>\n",
              "      <td>0</td>\n",
              "      <td>0</td>\n",
              "      <td>0</td>\n",
              "      <td>0</td>\n",
              "      <td>1</td>\n",
              "      <td>0</td>\n",
              "      <td>0</td>\n",
              "    </tr>\n",
              "    <tr>\n",
              "      <th>1703997</th>\n",
              "      <td>360</td>\n",
              "      <td>1</td>\n",
              "      <td>3</td>\n",
              "      <td>29</td>\n",
              "      <td>12</td>\n",
              "      <td>0</td>\n",
              "      <td>0</td>\n",
              "      <td>0</td>\n",
              "      <td>0</td>\n",
              "      <td>0</td>\n",
              "      <td>0</td>\n",
              "      <td>0</td>\n",
              "      <td>0</td>\n",
              "      <td>0</td>\n",
              "      <td>0</td>\n",
              "      <td>0</td>\n",
              "      <td>1</td>\n",
              "      <td>0</td>\n",
              "      <td>0</td>\n",
              "    </tr>\n",
              "  </tbody>\n",
              "</table>\n",
              "<p>26143 rows × 19 columns</p>\n",
              "</div>"
            ],
            "text/plain": [
              "         Incident Zip  ...  descriptor_Unsafe Worksite\n",
              "1012              376  ...                           0\n",
              "1777              420  ...                           0\n",
              "2397              419  ...                           0\n",
              "2457              431  ...                           0\n",
              "3299              421  ...                           0\n",
              "...               ...  ...                         ...\n",
              "1703985           433  ...                           0\n",
              "1703990           357  ...                           0\n",
              "1703991           412  ...                           0\n",
              "1703995           384  ...                           0\n",
              "1703997           360  ...                           0\n",
              "\n",
              "[26143 rows x 19 columns]"
            ]
          },
          "metadata": {
            "tags": []
          },
          "execution_count": 31
        }
      ]
    },
    {
      "cell_type": "code",
      "metadata": {
        "id": "Oh1RjHKBPdZk",
        "colab": {
          "base_uri": "https://localhost:8080/",
          "height": 306
        },
        "outputId": "472bd484-9013-41f9-b44b-60d5663936d1"
      },
      "source": [
        "\n",
        "df_new = df_new[['Incident Zip',\n",
        "                     'Day of Week',\n",
        "                     'Day of Month',\n",
        "                     'Month',\n",
        "                     'descriptor_Blocked - Construction',\n",
        "                     'descriptor_Failed Street Repair',\n",
        "                     'Resolution_Time']]\n",
        "df_new.describe()"
      ],
      "execution_count": null,
      "outputs": [
        {
          "output_type": "execute_result",
          "data": {
            "text/html": [
              "<div>\n",
              "<style scoped>\n",
              "    .dataframe tbody tr th:only-of-type {\n",
              "        vertical-align: middle;\n",
              "    }\n",
              "\n",
              "    .dataframe tbody tr th {\n",
              "        vertical-align: top;\n",
              "    }\n",
              "\n",
              "    .dataframe thead th {\n",
              "        text-align: right;\n",
              "    }\n",
              "</style>\n",
              "<table border=\"1\" class=\"dataframe\">\n",
              "  <thead>\n",
              "    <tr style=\"text-align: right;\">\n",
              "      <th></th>\n",
              "      <th>Incident Zip</th>\n",
              "      <th>Day of Week</th>\n",
              "      <th>Day of Month</th>\n",
              "      <th>Month</th>\n",
              "      <th>descriptor_Blocked - Construction</th>\n",
              "      <th>descriptor_Failed Street Repair</th>\n",
              "      <th>Resolution_Time</th>\n",
              "    </tr>\n",
              "  </thead>\n",
              "  <tbody>\n",
              "    <tr>\n",
              "      <th>count</th>\n",
              "      <td>26143.000000</td>\n",
              "      <td>26143.000000</td>\n",
              "      <td>26143.000000</td>\n",
              "      <td>26143.000000</td>\n",
              "      <td>26143.000000</td>\n",
              "      <td>26143.000000</td>\n",
              "      <td>26143.000000</td>\n",
              "    </tr>\n",
              "    <tr>\n",
              "      <th>mean</th>\n",
              "      <td>376.130283</td>\n",
              "      <td>2.315419</td>\n",
              "      <td>15.169453</td>\n",
              "      <td>5.401369</td>\n",
              "      <td>0.009066</td>\n",
              "      <td>0.114868</td>\n",
              "      <td>7.988180</td>\n",
              "    </tr>\n",
              "    <tr>\n",
              "      <th>std</th>\n",
              "      <td>112.642445</td>\n",
              "      <td>1.694802</td>\n",
              "      <td>8.544866</td>\n",
              "      <td>3.160508</td>\n",
              "      <td>0.094782</td>\n",
              "      <td>0.318869</td>\n",
              "      <td>9.938183</td>\n",
              "    </tr>\n",
              "    <tr>\n",
              "      <th>min</th>\n",
              "      <td>0.000000</td>\n",
              "      <td>0.000000</td>\n",
              "      <td>1.000000</td>\n",
              "      <td>1.000000</td>\n",
              "      <td>0.000000</td>\n",
              "      <td>0.000000</td>\n",
              "      <td>0.000000</td>\n",
              "    </tr>\n",
              "    <tr>\n",
              "      <th>25%</th>\n",
              "      <td>361.000000</td>\n",
              "      <td>1.000000</td>\n",
              "      <td>8.000000</td>\n",
              "      <td>3.000000</td>\n",
              "      <td>0.000000</td>\n",
              "      <td>0.000000</td>\n",
              "      <td>1.000000</td>\n",
              "    </tr>\n",
              "    <tr>\n",
              "      <th>50%</th>\n",
              "      <td>377.000000</td>\n",
              "      <td>2.000000</td>\n",
              "      <td>15.000000</td>\n",
              "      <td>5.000000</td>\n",
              "      <td>0.000000</td>\n",
              "      <td>0.000000</td>\n",
              "      <td>5.000000</td>\n",
              "    </tr>\n",
              "    <tr>\n",
              "      <th>75%</th>\n",
              "      <td>419.000000</td>\n",
              "      <td>4.000000</td>\n",
              "      <td>22.000000</td>\n",
              "      <td>8.000000</td>\n",
              "      <td>0.000000</td>\n",
              "      <td>0.000000</td>\n",
              "      <td>10.000000</td>\n",
              "    </tr>\n",
              "    <tr>\n",
              "      <th>max</th>\n",
              "      <td>696.000000</td>\n",
              "      <td>6.000000</td>\n",
              "      <td>31.000000</td>\n",
              "      <td>12.000000</td>\n",
              "      <td>1.000000</td>\n",
              "      <td>1.000000</td>\n",
              "      <td>406.000000</td>\n",
              "    </tr>\n",
              "  </tbody>\n",
              "</table>\n",
              "</div>"
            ],
            "text/plain": [
              "       Incident Zip  ...  Resolution_Time\n",
              "count  26143.000000  ...     26143.000000\n",
              "mean     376.130283  ...         7.988180\n",
              "std      112.642445  ...         9.938183\n",
              "min        0.000000  ...         0.000000\n",
              "25%      361.000000  ...         1.000000\n",
              "50%      377.000000  ...         5.000000\n",
              "75%      419.000000  ...        10.000000\n",
              "max      696.000000  ...       406.000000\n",
              "\n",
              "[8 rows x 7 columns]"
            ]
          },
          "metadata": {
            "tags": []
          },
          "execution_count": 32
        }
      ]
    },
    {
      "cell_type": "markdown",
      "metadata": {
        "id": "47Lt9VOEPmDW"
      },
      "source": [
        "### Train Test Splitter"
      ]
    },
    {
      "cell_type": "code",
      "metadata": {
        "id": "akmTnudePmmt"
      },
      "source": [
        "from sklearn.model_selection import train_test_split\n",
        "def splitter(dataset,y):\n",
        "    X_train, X_test, y_train, y_test = train_test_split(dataset, y, test_size=0.33, random_state=42)\n",
        "    return X_train,X_test,y_train,y_test"
      ],
      "execution_count": null,
      "outputs": []
    },
    {
      "cell_type": "code",
      "metadata": {
        "id": "0T_nzNxtPrCt",
        "colab": {
          "base_uri": "https://localhost:8080/",
          "height": 306
        },
        "outputId": "caf15e6f-b0b1-437b-8a55-f69c889d1eac"
      },
      "source": [
        "df_new.describe()"
      ],
      "execution_count": null,
      "outputs": [
        {
          "output_type": "execute_result",
          "data": {
            "text/html": [
              "<div>\n",
              "<style scoped>\n",
              "    .dataframe tbody tr th:only-of-type {\n",
              "        vertical-align: middle;\n",
              "    }\n",
              "\n",
              "    .dataframe tbody tr th {\n",
              "        vertical-align: top;\n",
              "    }\n",
              "\n",
              "    .dataframe thead th {\n",
              "        text-align: right;\n",
              "    }\n",
              "</style>\n",
              "<table border=\"1\" class=\"dataframe\">\n",
              "  <thead>\n",
              "    <tr style=\"text-align: right;\">\n",
              "      <th></th>\n",
              "      <th>Incident Zip</th>\n",
              "      <th>Day of Week</th>\n",
              "      <th>Day of Month</th>\n",
              "      <th>Month</th>\n",
              "      <th>descriptor_Blocked - Construction</th>\n",
              "      <th>descriptor_Failed Street Repair</th>\n",
              "      <th>Resolution_Time</th>\n",
              "    </tr>\n",
              "  </thead>\n",
              "  <tbody>\n",
              "    <tr>\n",
              "      <th>count</th>\n",
              "      <td>26143.000000</td>\n",
              "      <td>26143.000000</td>\n",
              "      <td>26143.000000</td>\n",
              "      <td>26143.000000</td>\n",
              "      <td>26143.000000</td>\n",
              "      <td>26143.000000</td>\n",
              "      <td>26143.000000</td>\n",
              "    </tr>\n",
              "    <tr>\n",
              "      <th>mean</th>\n",
              "      <td>376.130283</td>\n",
              "      <td>2.315419</td>\n",
              "      <td>15.169453</td>\n",
              "      <td>5.401369</td>\n",
              "      <td>0.009066</td>\n",
              "      <td>0.114868</td>\n",
              "      <td>7.988180</td>\n",
              "    </tr>\n",
              "    <tr>\n",
              "      <th>std</th>\n",
              "      <td>112.642445</td>\n",
              "      <td>1.694802</td>\n",
              "      <td>8.544866</td>\n",
              "      <td>3.160508</td>\n",
              "      <td>0.094782</td>\n",
              "      <td>0.318869</td>\n",
              "      <td>9.938183</td>\n",
              "    </tr>\n",
              "    <tr>\n",
              "      <th>min</th>\n",
              "      <td>0.000000</td>\n",
              "      <td>0.000000</td>\n",
              "      <td>1.000000</td>\n",
              "      <td>1.000000</td>\n",
              "      <td>0.000000</td>\n",
              "      <td>0.000000</td>\n",
              "      <td>0.000000</td>\n",
              "    </tr>\n",
              "    <tr>\n",
              "      <th>25%</th>\n",
              "      <td>361.000000</td>\n",
              "      <td>1.000000</td>\n",
              "      <td>8.000000</td>\n",
              "      <td>3.000000</td>\n",
              "      <td>0.000000</td>\n",
              "      <td>0.000000</td>\n",
              "      <td>1.000000</td>\n",
              "    </tr>\n",
              "    <tr>\n",
              "      <th>50%</th>\n",
              "      <td>377.000000</td>\n",
              "      <td>2.000000</td>\n",
              "      <td>15.000000</td>\n",
              "      <td>5.000000</td>\n",
              "      <td>0.000000</td>\n",
              "      <td>0.000000</td>\n",
              "      <td>5.000000</td>\n",
              "    </tr>\n",
              "    <tr>\n",
              "      <th>75%</th>\n",
              "      <td>419.000000</td>\n",
              "      <td>4.000000</td>\n",
              "      <td>22.000000</td>\n",
              "      <td>8.000000</td>\n",
              "      <td>0.000000</td>\n",
              "      <td>0.000000</td>\n",
              "      <td>10.000000</td>\n",
              "    </tr>\n",
              "    <tr>\n",
              "      <th>max</th>\n",
              "      <td>696.000000</td>\n",
              "      <td>6.000000</td>\n",
              "      <td>31.000000</td>\n",
              "      <td>12.000000</td>\n",
              "      <td>1.000000</td>\n",
              "      <td>1.000000</td>\n",
              "      <td>406.000000</td>\n",
              "    </tr>\n",
              "  </tbody>\n",
              "</table>\n",
              "</div>"
            ],
            "text/plain": [
              "       Incident Zip  ...  Resolution_Time\n",
              "count  26143.000000  ...     26143.000000\n",
              "mean     376.130283  ...         7.988180\n",
              "std      112.642445  ...         9.938183\n",
              "min        0.000000  ...         0.000000\n",
              "25%      361.000000  ...         1.000000\n",
              "50%      377.000000  ...         5.000000\n",
              "75%      419.000000  ...        10.000000\n",
              "max      696.000000  ...       406.000000\n",
              "\n",
              "[8 rows x 7 columns]"
            ]
          },
          "metadata": {
            "tags": []
          },
          "execution_count": 34
        }
      ]
    },
    {
      "cell_type": "markdown",
      "metadata": {
        "id": "Oode8zfWPqzw"
      },
      "source": [
        "Our target variable has values ranging from 0 to 406. This can be a reason for the classifiers to perform poorly.\n",
        "\n",
        "We can try dividing our target variable Resolution_Time into ranges. We can see from above that, Resolution_Time's min value is 0, max value is 406 and mean is at 8.\n",
        "\n",
        "So we can divide it into following ranges: (0,1),(2,5),(5,10)"
      ]
    },
    {
      "cell_type": "markdown",
      "metadata": {
        "id": "Kai7f5jVP1Bn"
      },
      "source": [
        "###  Binning the target variable"
      ]
    },
    {
      "cell_type": "code",
      "metadata": {
        "id": "UVcaS3xrPxxY",
        "colab": {
          "base_uri": "https://localhost:8080/"
        },
        "outputId": "546f78cc-5d7c-4c55-8fbd-0fff95e91b6e"
      },
      "source": [
        "# Since the data is highly imbalanced we are removing few outliers.\n",
        "df_new.drop(df_new[df_new.Resolution_Time > 28].index, \n",
        "              inplace = True)\n",
        "df_new.Resolution_Time.value_counts() "
      ],
      "execution_count": null,
      "outputs": [
        {
          "output_type": "stream",
          "text": [
            "/usr/local/lib/python3.6/dist-packages/pandas/core/frame.py:4174: SettingWithCopyWarning: \n",
            "A value is trying to be set on a copy of a slice from a DataFrame\n",
            "\n",
            "See the caveats in the documentation: https://pandas.pydata.org/pandas-docs/stable/user_guide/indexing.html#returning-a-view-versus-a-copy\n",
            "  errors=errors,\n"
          ],
          "name": "stderr"
        },
        {
          "output_type": "execute_result",
          "data": {
            "text/plain": [
              "0     3418\n",
              "1     3151\n",
              "5     1987\n",
              "6     1962\n",
              "4     1840\n",
              "2     1808\n",
              "3     1582\n",
              "7     1472\n",
              "8     1100\n",
              "9      808\n",
              "10     612\n",
              "11     553\n",
              "13     547\n",
              "12     498\n",
              "14     466\n",
              "21     340\n",
              "15     301\n",
              "20     298\n",
              "17     258\n",
              "16     253\n",
              "19     252\n",
              "18     234\n",
              "23     227\n",
              "22     219\n",
              "24     202\n",
              "26     153\n",
              "25     150\n",
              "27     137\n",
              "28      87\n",
              "Name: Resolution_Time, dtype: int64"
            ]
          },
          "metadata": {
            "tags": []
          },
          "execution_count": 35
        }
      ]
    },
    {
      "cell_type": "code",
      "metadata": {
        "id": "2V_rxhHZP6FO",
        "colab": {
          "base_uri": "https://localhost:8080/",
          "height": 528
        },
        "outputId": "9ef5778f-4e49-4700-fecb-b5001573ede3"
      },
      "source": [
        "df_new['categories'] = pd.cut(df_new['Resolution_Time'], \n",
        "                                [0,7,14,28],\n",
        "                                include_lowest = True,\n",
        "                                labels = [0,1,2])\n",
        "df_new.describe()\n",
        "df_new"
      ],
      "execution_count": null,
      "outputs": [
        {
          "output_type": "stream",
          "text": [
            "/usr/local/lib/python3.6/dist-packages/ipykernel_launcher.py:4: SettingWithCopyWarning: \n",
            "A value is trying to be set on a copy of a slice from a DataFrame.\n",
            "Try using .loc[row_indexer,col_indexer] = value instead\n",
            "\n",
            "See the caveats in the documentation: https://pandas.pydata.org/pandas-docs/stable/user_guide/indexing.html#returning-a-view-versus-a-copy\n",
            "  after removing the cwd from sys.path.\n"
          ],
          "name": "stderr"
        },
        {
          "output_type": "execute_result",
          "data": {
            "text/html": [
              "<div>\n",
              "<style scoped>\n",
              "    .dataframe tbody tr th:only-of-type {\n",
              "        vertical-align: middle;\n",
              "    }\n",
              "\n",
              "    .dataframe tbody tr th {\n",
              "        vertical-align: top;\n",
              "    }\n",
              "\n",
              "    .dataframe thead th {\n",
              "        text-align: right;\n",
              "    }\n",
              "</style>\n",
              "<table border=\"1\" class=\"dataframe\">\n",
              "  <thead>\n",
              "    <tr style=\"text-align: right;\">\n",
              "      <th></th>\n",
              "      <th>Incident Zip</th>\n",
              "      <th>Day of Week</th>\n",
              "      <th>Day of Month</th>\n",
              "      <th>Month</th>\n",
              "      <th>descriptor_Blocked - Construction</th>\n",
              "      <th>descriptor_Failed Street Repair</th>\n",
              "      <th>Resolution_Time</th>\n",
              "      <th>categories</th>\n",
              "    </tr>\n",
              "  </thead>\n",
              "  <tbody>\n",
              "    <tr>\n",
              "      <th>1012</th>\n",
              "      <td>376</td>\n",
              "      <td>0</td>\n",
              "      <td>31</td>\n",
              "      <td>1</td>\n",
              "      <td>0</td>\n",
              "      <td>0</td>\n",
              "      <td>9</td>\n",
              "      <td>1</td>\n",
              "    </tr>\n",
              "    <tr>\n",
              "      <th>1777</th>\n",
              "      <td>420</td>\n",
              "      <td>4</td>\n",
              "      <td>18</td>\n",
              "      <td>2</td>\n",
              "      <td>0</td>\n",
              "      <td>0</td>\n",
              "      <td>3</td>\n",
              "      <td>0</td>\n",
              "    </tr>\n",
              "    <tr>\n",
              "      <th>2397</th>\n",
              "      <td>419</td>\n",
              "      <td>2</td>\n",
              "      <td>9</td>\n",
              "      <td>3</td>\n",
              "      <td>0</td>\n",
              "      <td>0</td>\n",
              "      <td>15</td>\n",
              "      <td>2</td>\n",
              "    </tr>\n",
              "    <tr>\n",
              "      <th>2457</th>\n",
              "      <td>431</td>\n",
              "      <td>0</td>\n",
              "      <td>14</td>\n",
              "      <td>3</td>\n",
              "      <td>0</td>\n",
              "      <td>0</td>\n",
              "      <td>8</td>\n",
              "      <td>1</td>\n",
              "    </tr>\n",
              "    <tr>\n",
              "      <th>3299</th>\n",
              "      <td>421</td>\n",
              "      <td>4</td>\n",
              "      <td>8</td>\n",
              "      <td>4</td>\n",
              "      <td>0</td>\n",
              "      <td>0</td>\n",
              "      <td>24</td>\n",
              "      <td>2</td>\n",
              "    </tr>\n",
              "    <tr>\n",
              "      <th>...</th>\n",
              "      <td>...</td>\n",
              "      <td>...</td>\n",
              "      <td>...</td>\n",
              "      <td>...</td>\n",
              "      <td>...</td>\n",
              "      <td>...</td>\n",
              "      <td>...</td>\n",
              "      <td>...</td>\n",
              "    </tr>\n",
              "    <tr>\n",
              "      <th>1703985</th>\n",
              "      <td>433</td>\n",
              "      <td>3</td>\n",
              "      <td>29</td>\n",
              "      <td>12</td>\n",
              "      <td>0</td>\n",
              "      <td>0</td>\n",
              "      <td>1</td>\n",
              "      <td>0</td>\n",
              "    </tr>\n",
              "    <tr>\n",
              "      <th>1703990</th>\n",
              "      <td>357</td>\n",
              "      <td>3</td>\n",
              "      <td>29</td>\n",
              "      <td>12</td>\n",
              "      <td>0</td>\n",
              "      <td>0</td>\n",
              "      <td>1</td>\n",
              "      <td>0</td>\n",
              "    </tr>\n",
              "    <tr>\n",
              "      <th>1703991</th>\n",
              "      <td>412</td>\n",
              "      <td>3</td>\n",
              "      <td>29</td>\n",
              "      <td>12</td>\n",
              "      <td>0</td>\n",
              "      <td>0</td>\n",
              "      <td>1</td>\n",
              "      <td>0</td>\n",
              "    </tr>\n",
              "    <tr>\n",
              "      <th>1703995</th>\n",
              "      <td>384</td>\n",
              "      <td>3</td>\n",
              "      <td>29</td>\n",
              "      <td>12</td>\n",
              "      <td>0</td>\n",
              "      <td>0</td>\n",
              "      <td>1</td>\n",
              "      <td>0</td>\n",
              "    </tr>\n",
              "    <tr>\n",
              "      <th>1703997</th>\n",
              "      <td>360</td>\n",
              "      <td>3</td>\n",
              "      <td>29</td>\n",
              "      <td>12</td>\n",
              "      <td>0</td>\n",
              "      <td>0</td>\n",
              "      <td>1</td>\n",
              "      <td>0</td>\n",
              "    </tr>\n",
              "  </tbody>\n",
              "</table>\n",
              "<p>24915 rows × 8 columns</p>\n",
              "</div>"
            ],
            "text/plain": [
              "         Incident Zip  Day of Week  ...  Resolution_Time  categories\n",
              "1012              376            0  ...                9           1\n",
              "1777              420            4  ...                3           0\n",
              "2397              419            2  ...               15           2\n",
              "2457              431            0  ...                8           1\n",
              "3299              421            4  ...               24           2\n",
              "...               ...          ...  ...              ...         ...\n",
              "1703985           433            3  ...                1           0\n",
              "1703990           357            3  ...                1           0\n",
              "1703991           412            3  ...                1           0\n",
              "1703995           384            3  ...                1           0\n",
              "1703997           360            3  ...                1           0\n",
              "\n",
              "[24915 rows x 8 columns]"
            ]
          },
          "metadata": {
            "tags": []
          },
          "execution_count": 36
        }
      ]
    },
    {
      "cell_type": "code",
      "metadata": {
        "id": "RjfPETDqP8Xm"
      },
      "source": [
        "# getDfSummary(df_new)"
      ],
      "execution_count": null,
      "outputs": []
    },
    {
      "cell_type": "code",
      "metadata": {
        "id": "ySy29WkIhEiV",
        "colab": {
          "base_uri": "https://localhost:8080/"
        },
        "outputId": "6c5c12f4-c238-49a4-da23-a8b04a2b00f2"
      },
      "source": [
        "df_new.dtypes"
      ],
      "execution_count": null,
      "outputs": [
        {
          "output_type": "execute_result",
          "data": {
            "text/plain": [
              "Incident Zip                            int64\n",
              "Day of Week                             int64\n",
              "Day of Month                            int64\n",
              "Month                                   int64\n",
              "descriptor_Blocked - Construction       uint8\n",
              "descriptor_Failed Street Repair         uint8\n",
              "Resolution_Time                         int64\n",
              "categories                           category\n",
              "dtype: object"
            ]
          },
          "metadata": {
            "tags": []
          },
          "execution_count": 38
        }
      ]
    },
    {
      "cell_type": "markdown",
      "metadata": {
        "id": "SXsTBwgAPxWV"
      },
      "source": [
        "### Logistic Regression"
      ]
    },
    {
      "cell_type": "code",
      "metadata": {
        "id": "-FA2XPMCQBph",
        "colab": {
          "base_uri": "https://localhost:8080/"
        },
        "outputId": "24e87cba-2780-4575-99e1-b3277ea0d8e3"
      },
      "source": [
        "X_train, X_test, y_train, y_test = splitter(df_new,df_new['categories'])\n",
        "X1, Y1 = X_train.drop(['Resolution_Time','categories'],1), y_train\n",
        "X2, Y2 = X_test.drop(['Resolution_Time','categories'],1), y_test\n",
        "log = LogisticRegression(C = 1e30)\n",
        "log.fit(X1,Y1)\n",
        "print(\"Accuracy of Logistic Regression = \", accuracy_score(Y2,log.predict(X2))*100, \"%\", \"\\n\\n\")"
      ],
      "execution_count": null,
      "outputs": [
        {
          "output_type": "stream",
          "text": [
            "Accuracy of Logistic Regression =  69.11943566042325 % \n",
            "\n",
            "\n"
          ],
          "name": "stdout"
        },
        {
          "output_type": "stream",
          "text": [
            "/usr/local/lib/python3.6/dist-packages/sklearn/linear_model/_logistic.py:940: ConvergenceWarning: lbfgs failed to converge (status=1):\n",
            "STOP: TOTAL NO. of ITERATIONS REACHED LIMIT.\n",
            "\n",
            "Increase the number of iterations (max_iter) or scale the data as shown in:\n",
            "    https://scikit-learn.org/stable/modules/preprocessing.html\n",
            "Please also refer to the documentation for alternative solver options:\n",
            "    https://scikit-learn.org/stable/modules/linear_model.html#logistic-regression\n",
            "  extra_warning_msg=_LOGISTIC_SOLVER_CONVERGENCE_MSG)\n"
          ],
          "name": "stderr"
        }
      ]
    },
    {
      "cell_type": "code",
      "metadata": {
        "id": "75JEzHP-QFUj",
        "colab": {
          "base_uri": "https://localhost:8080/"
        },
        "outputId": "299603fa-80e5-4b71-e9f6-29eea9d1a93a"
      },
      "source": [
        "print(log.predict(X2))"
      ],
      "execution_count": null,
      "outputs": [
        {
          "output_type": "stream",
          "text": [
            "[0 0 0 ... 0 0 0]\n"
          ],
          "name": "stdout"
        }
      ]
    },
    {
      "cell_type": "code",
      "metadata": {
        "id": "ULftMlF7QHC7",
        "colab": {
          "base_uri": "https://localhost:8080/"
        },
        "outputId": "c66c46e7-1ae9-40f9-9292-be402ed908e9"
      },
      "source": [
        "print(classification_report(y_test, log.predict(X2)))"
      ],
      "execution_count": null,
      "outputs": [
        {
          "output_type": "stream",
          "text": [
            "              precision    recall  f1-score   support\n",
            "\n",
            "           0       0.69      1.00      0.82      5683\n",
            "           1       0.00      0.00      0.00      1526\n",
            "           2       0.00      0.00      0.00      1013\n",
            "\n",
            "    accuracy                           0.69      8222\n",
            "   macro avg       0.23      0.33      0.27      8222\n",
            "weighted avg       0.48      0.69      0.56      8222\n",
            "\n"
          ],
          "name": "stdout"
        },
        {
          "output_type": "stream",
          "text": [
            "/usr/local/lib/python3.6/dist-packages/sklearn/metrics/_classification.py:1272: UndefinedMetricWarning: Precision and F-score are ill-defined and being set to 0.0 in labels with no predicted samples. Use `zero_division` parameter to control this behavior.\n",
            "  _warn_prf(average, modifier, msg_start, len(result))\n"
          ],
          "name": "stderr"
        }
      ]
    },
    {
      "cell_type": "markdown",
      "metadata": {
        "id": "ARqe4jRvQJ_M"
      },
      "source": [
        "### Decision Tree Classifier"
      ]
    },
    {
      "cell_type": "code",
      "metadata": {
        "id": "WBBx6CqtQLoh",
        "colab": {
          "base_uri": "https://localhost:8080/"
        },
        "outputId": "70ada97c-f6dc-4ee2-9229-b032d88e5eb6"
      },
      "source": [
        "dtc = DecisionTreeClassifier(criterion = 'entropy')\n",
        "dtc = dtc.fit(X1,Y1)\n",
        "y1_model = dtc.score(X1,Y1)\n",
        "y2_model = dtc.score(X2,Y2)\n",
        "print(\"Accuracy on training dataset of Decision Tree = \",\n",
        "      y1_model*100,\"%\",\n",
        "      \"\\nAccuracy on test dataset of Decision Tree = \",\n",
        "      y2_model*100,\"%\")"
      ],
      "execution_count": null,
      "outputs": [
        {
          "output_type": "stream",
          "text": [
            "Accuracy on training dataset of Decision Tree =  87.68346013298988 % \n",
            "Accuracy on test dataset of Decision Tree =  68.1099489175383 %\n"
          ],
          "name": "stdout"
        }
      ]
    },
    {
      "cell_type": "markdown",
      "metadata": {
        "id": "dOLOwNq3QO4Q"
      },
      "source": [
        "We can see that Decision Tree is more accurate. To evaluate our model better lets study the confusion matrix of both."
      ]
    },
    {
      "cell_type": "code",
      "metadata": {
        "id": "Fp6swDMrQTLt",
        "colab": {
          "base_uri": "https://localhost:8080/"
        },
        "outputId": "1f87275d-6f96-496e-fd45-d1f8a8476754"
      },
      "source": [
        "Y2_pred = dtc.predict(X2)\n",
        "dtc_cnf_matrix = confusion_matrix(Y2, Y2_pred)\n",
        "dtc_cnf_matrix_n = dtc_cnf_matrix.astype('float') / dtc_cnf_matrix.sum(axis=1)[:, np.newaxis]\n",
        "print(\"Decision Tree Confusion Matrix:\\n \", dtc_cnf_matrix)\n",
        "print(\"\\nDecision Tree Normalized Confusion Matrix:\\n \", dtc_cnf_matrix_n)"
      ],
      "execution_count": null,
      "outputs": [
        {
          "output_type": "stream",
          "text": [
            "Decision Tree Confusion Matrix:\n",
            "  [[4726  607  350]\n",
            " [ 934  493   99]\n",
            " [ 492  140  381]]\n",
            "\n",
            "Decision Tree Normalized Confusion Matrix:\n",
            "  [[0.83160303 0.10680978 0.06158719]\n",
            " [0.61205767 0.32306684 0.06487549]\n",
            " [0.48568608 0.13820336 0.37611056]]\n"
          ],
          "name": "stdout"
        }
      ]
    },
    {
      "cell_type": "code",
      "metadata": {
        "id": "JlzNeRSZQWjj",
        "colab": {
          "base_uri": "https://localhost:8080/"
        },
        "outputId": "5b7f55d3-5b4f-436a-8e0c-78b9c7d6ae17"
      },
      "source": [
        "Y2_pred = log.predict(X2)\n",
        "log_cnf_matrix = confusion_matrix(Y2, Y2_pred)\n",
        "log_cnf_matrix_n = log_cnf_matrix.astype('float') / log_cnf_matrix.sum(axis=1)[:, np.newaxis]\n",
        "print(\"Logistic Regression Confusion Matrix:\\n \", log_cnf_matrix)\n",
        "print(\"\\nLogistic Regression Normalized Confusion Matrix:\\n \", log_cnf_matrix_n)"
      ],
      "execution_count": null,
      "outputs": [
        {
          "output_type": "stream",
          "text": [
            "Logistic Regression Confusion Matrix:\n",
            "  [[5683    0    0]\n",
            " [1526    0    0]\n",
            " [1013    0    0]]\n",
            "\n",
            "Logistic Regression Normalized Confusion Matrix:\n",
            "  [[1. 0. 0.]\n",
            " [1. 0. 0.]\n",
            " [1. 0. 0.]]\n"
          ],
          "name": "stdout"
        }
      ]
    },
    {
      "cell_type": "markdown",
      "metadata": {
        "id": "jwrAEIVdQjDH"
      },
      "source": [
        "So we can see from the above confusion matrices that our models are doing fairly good for the first two classes of output. But because of lack of data points for the third class, it's giving the wrong output for third class.\n",
        "\n",
        "We can check if the accuracy improves if we scale our dataset and then do modelling."
      ]
    },
    {
      "cell_type": "markdown",
      "metadata": {
        "id": "CnDI0i93QqAh"
      },
      "source": [
        "### Scaling using sklearn Preprocessing"
      ]
    },
    {
      "cell_type": "code",
      "metadata": {
        "id": "7VyCefttQtzM"
      },
      "source": [
        "\n",
        "scaled = preprocessing.scale(df_new[['Incident Zip', \n",
        "                                       'Day of Week',\n",
        "                                       'Day of Month', \n",
        "                                       'Month']])\n",
        "data_scaled = pd.DataFrame(scaled,\n",
        "                          index = df_new.index,\n",
        "                          columns = ['Incident Zip','Day of Week', 'Day of Month', 'Month'] )\n",
        "data_scaled = pd.concat([data_scaled, df_new.iloc[:,4:6],\n",
        "                        df_new['categories']], \n",
        "                       axis = 1)"
      ],
      "execution_count": null,
      "outputs": []
    },
    {
      "cell_type": "code",
      "metadata": {
        "id": "4WB18oLGQwsu",
        "colab": {
          "base_uri": "https://localhost:8080/"
        },
        "outputId": "c8446c89-9487-4351-f541-f8ac1e182af1"
      },
      "source": [
        "data_scaled.dtypes"
      ],
      "execution_count": null,
      "outputs": [
        {
          "output_type": "execute_result",
          "data": {
            "text/plain": [
              "Incident Zip                          float64\n",
              "Day of Week                           float64\n",
              "Day of Month                          float64\n",
              "Month                                 float64\n",
              "descriptor_Blocked - Construction       uint8\n",
              "descriptor_Failed Street Repair         uint8\n",
              "categories                           category\n",
              "dtype: object"
            ]
          },
          "metadata": {
            "tags": []
          },
          "execution_count": 46
        }
      ]
    },
    {
      "cell_type": "code",
      "metadata": {
        "id": "6i1nAlbmToeq",
        "colab": {
          "base_uri": "https://localhost:8080/",
          "height": 408
        },
        "outputId": "c6a4cd7d-4ecd-4438-90bf-af70650f74d4"
      },
      "source": [
        "data_scaled"
      ],
      "execution_count": null,
      "outputs": [
        {
          "output_type": "execute_result",
          "data": {
            "text/html": [
              "<div>\n",
              "<style scoped>\n",
              "    .dataframe tbody tr th:only-of-type {\n",
              "        vertical-align: middle;\n",
              "    }\n",
              "\n",
              "    .dataframe tbody tr th {\n",
              "        vertical-align: top;\n",
              "    }\n",
              "\n",
              "    .dataframe thead th {\n",
              "        text-align: right;\n",
              "    }\n",
              "</style>\n",
              "<table border=\"1\" class=\"dataframe\">\n",
              "  <thead>\n",
              "    <tr style=\"text-align: right;\">\n",
              "      <th></th>\n",
              "      <th>Incident Zip</th>\n",
              "      <th>Day of Week</th>\n",
              "      <th>Day of Month</th>\n",
              "      <th>Month</th>\n",
              "      <th>descriptor_Blocked - Construction</th>\n",
              "      <th>descriptor_Failed Street Repair</th>\n",
              "      <th>categories</th>\n",
              "    </tr>\n",
              "  </thead>\n",
              "  <tbody>\n",
              "    <tr>\n",
              "      <th>1012</th>\n",
              "      <td>-0.001460</td>\n",
              "      <td>-1.363055</td>\n",
              "      <td>1.845726</td>\n",
              "      <td>-1.370447</td>\n",
              "      <td>0</td>\n",
              "      <td>0</td>\n",
              "      <td>1</td>\n",
              "    </tr>\n",
              "    <tr>\n",
              "      <th>1777</th>\n",
              "      <td>0.386928</td>\n",
              "      <td>0.992656</td>\n",
              "      <td>0.330213</td>\n",
              "      <td>-1.060103</td>\n",
              "      <td>0</td>\n",
              "      <td>0</td>\n",
              "      <td>0</td>\n",
              "    </tr>\n",
              "    <tr>\n",
              "      <th>2397</th>\n",
              "      <td>0.378101</td>\n",
              "      <td>-0.185200</td>\n",
              "      <td>-0.718988</td>\n",
              "      <td>-0.749759</td>\n",
              "      <td>0</td>\n",
              "      <td>0</td>\n",
              "      <td>2</td>\n",
              "    </tr>\n",
              "    <tr>\n",
              "      <th>2457</th>\n",
              "      <td>0.484026</td>\n",
              "      <td>-1.363055</td>\n",
              "      <td>-0.136099</td>\n",
              "      <td>-0.749759</td>\n",
              "      <td>0</td>\n",
              "      <td>0</td>\n",
              "      <td>1</td>\n",
              "    </tr>\n",
              "    <tr>\n",
              "      <th>3299</th>\n",
              "      <td>0.395755</td>\n",
              "      <td>0.992656</td>\n",
              "      <td>-0.835566</td>\n",
              "      <td>-0.439414</td>\n",
              "      <td>0</td>\n",
              "      <td>0</td>\n",
              "      <td>2</td>\n",
              "    </tr>\n",
              "    <tr>\n",
              "      <th>...</th>\n",
              "      <td>...</td>\n",
              "      <td>...</td>\n",
              "      <td>...</td>\n",
              "      <td>...</td>\n",
              "      <td>...</td>\n",
              "      <td>...</td>\n",
              "      <td>...</td>\n",
              "    </tr>\n",
              "    <tr>\n",
              "      <th>1703985</th>\n",
              "      <td>0.501680</td>\n",
              "      <td>0.403728</td>\n",
              "      <td>1.612570</td>\n",
              "      <td>2.043339</td>\n",
              "      <td>0</td>\n",
              "      <td>0</td>\n",
              "      <td>0</td>\n",
              "    </tr>\n",
              "    <tr>\n",
              "      <th>1703990</th>\n",
              "      <td>-0.169174</td>\n",
              "      <td>0.403728</td>\n",
              "      <td>1.612570</td>\n",
              "      <td>2.043339</td>\n",
              "      <td>0</td>\n",
              "      <td>0</td>\n",
              "      <td>0</td>\n",
              "    </tr>\n",
              "    <tr>\n",
              "      <th>1703991</th>\n",
              "      <td>0.316312</td>\n",
              "      <td>0.403728</td>\n",
              "      <td>1.612570</td>\n",
              "      <td>2.043339</td>\n",
              "      <td>0</td>\n",
              "      <td>0</td>\n",
              "      <td>0</td>\n",
              "    </tr>\n",
              "    <tr>\n",
              "      <th>1703995</th>\n",
              "      <td>0.069156</td>\n",
              "      <td>0.403728</td>\n",
              "      <td>1.612570</td>\n",
              "      <td>2.043339</td>\n",
              "      <td>0</td>\n",
              "      <td>0</td>\n",
              "      <td>0</td>\n",
              "    </tr>\n",
              "    <tr>\n",
              "      <th>1703997</th>\n",
              "      <td>-0.142693</td>\n",
              "      <td>0.403728</td>\n",
              "      <td>1.612570</td>\n",
              "      <td>2.043339</td>\n",
              "      <td>0</td>\n",
              "      <td>0</td>\n",
              "      <td>0</td>\n",
              "    </tr>\n",
              "  </tbody>\n",
              "</table>\n",
              "<p>24915 rows × 7 columns</p>\n",
              "</div>"
            ],
            "text/plain": [
              "         Incident Zip  Day of Week  ...  descriptor_Failed Street Repair  categories\n",
              "1012        -0.001460    -1.363055  ...                                0           1\n",
              "1777         0.386928     0.992656  ...                                0           0\n",
              "2397         0.378101    -0.185200  ...                                0           2\n",
              "2457         0.484026    -1.363055  ...                                0           1\n",
              "3299         0.395755     0.992656  ...                                0           2\n",
              "...               ...          ...  ...                              ...         ...\n",
              "1703985      0.501680     0.403728  ...                                0           0\n",
              "1703990     -0.169174     0.403728  ...                                0           0\n",
              "1703991      0.316312     0.403728  ...                                0           0\n",
              "1703995      0.069156     0.403728  ...                                0           0\n",
              "1703997     -0.142693     0.403728  ...                                0           0\n",
              "\n",
              "[24915 rows x 7 columns]"
            ]
          },
          "metadata": {
            "tags": []
          },
          "execution_count": 47
        }
      ]
    },
    {
      "cell_type": "code",
      "metadata": {
        "id": "AMCmepA9bEPp"
      },
      "source": [
        "# data_scaled['Created Date']=data_scaled['Created Date'].map(dt.datetime.toordinal)\n",
        "# data_scaled['Closed Date']=data_scaled['Closed Date'].map(dt.datetime.toordinal)"
      ],
      "execution_count": null,
      "outputs": []
    },
    {
      "cell_type": "code",
      "metadata": {
        "id": "rDypE2zRcK_6"
      },
      "source": [
        "# X_train, X_test, y_train, y_test = splitter(df_new,df_new['categories'])\n",
        "# X1, Y1 = X_train.drop(['Resolution_Time','categories'],1), y_train\n",
        "# X2, Y2 = X_test.drop(['Resolution_Time','categories'],1), y_test\n",
        "# log = LogisticRegression(C = 1e30)\n",
        "# log.fit(X1,Y1)\n",
        "# print(\"Accuracy of Logistic Regression = \", accuracy_score(Y2,log.predict(X2))*100, \"%\")"
      ],
      "execution_count": null,
      "outputs": []
    },
    {
      "cell_type": "markdown",
      "metadata": {
        "id": "4aU51dbTQ0hD"
      },
      "source": [
        "### Logistic Regression on Scaled"
      ]
    },
    {
      "cell_type": "code",
      "metadata": {
        "id": "uI2XfqayQ2X6",
        "colab": {
          "base_uri": "https://localhost:8080/"
        },
        "outputId": "6708aeb5-9f45-431f-df15-a445f3e677be"
      },
      "source": [
        "X_train, X_test, y_train, y_test = splitter(data_scaled, data_scaled.categories)\n",
        "X1, Y1 = X_train.drop('categories', 1), y_train\n",
        "X2, Y2 = X_test.drop('categories', 1), y_test\n",
        "log = LogisticRegression(C = 1e30)\n",
        "log.fit(X1,Y1)\n",
        "print(\"Accurary of Logistic Regression: \", accuracy_score(Y2,log.predict(X2))*100, \"%\", '\\n\\n')"
      ],
      "execution_count": null,
      "outputs": [
        {
          "output_type": "stream",
          "text": [
            "Accurary of Logistic Regression:  69.11943566042325 % \n",
            "\n",
            "\n"
          ],
          "name": "stdout"
        }
      ]
    },
    {
      "cell_type": "markdown",
      "metadata": {
        "id": "rMuBnS1UQ5pz"
      },
      "source": [
        "### Decision Tree Classifier on Scaled"
      ]
    },
    {
      "cell_type": "code",
      "metadata": {
        "id": "nXas2gEDQ8XK",
        "colab": {
          "base_uri": "https://localhost:8080/"
        },
        "outputId": "3d6307b4-1ad3-40c9-a302-39c173a73665"
      },
      "source": [
        "dtc = DecisionTreeClassifier(criterion = 'entropy')\n",
        "dtc = dtc.fit(X1,Y1)\n",
        "y1_model = dtc.score(X1,Y1)\n",
        "y2_model = dtc.score(X2,Y2)\n",
        "print(\"Accuracy on training dataset of Decision Tree = \",\n",
        "      y1_model*100, \"%\",\n",
        "      \"\\nAccuracy on test dataset of Decision Tree = \",\n",
        "      y2_model*100, \"%\")"
      ],
      "execution_count": null,
      "outputs": [
        {
          "output_type": "stream",
          "text": [
            "Accuracy on training dataset of Decision Tree =  87.68346013298988 % \n",
            "Accuracy on test dataset of Decision Tree =  68.04913646314765 %\n"
          ],
          "name": "stdout"
        }
      ]
    },
    {
      "cell_type": "markdown",
      "metadata": {
        "id": "7W6LbxqNQ_Gr"
      },
      "source": [
        "Even after scaling our dataset, we do not see any significant change in the accuracy.\n"
      ]
    },
    {
      "cell_type": "markdown",
      "metadata": {
        "id": "AbaWT9ayRzF1"
      },
      "source": [
        "## Working with Storm Dataset"
      ]
    },
    {
      "cell_type": "code",
      "metadata": {
        "id": "M-aNF1afR1md"
      },
      "source": [
        "df_storm = pd.read_csv('/content/gdrive/My Drive/storm_data_search_results.csv', \n",
        "                       header = 0,\n",
        "                       sep = ',', \n",
        "                       parse_dates = ['BEGIN_DATE'],\n",
        "                       index_col = 'EVENT_ID')"
      ],
      "execution_count": null,
      "outputs": []
    },
    {
      "cell_type": "code",
      "metadata": {
        "id": "163SW2UsRiUU",
        "colab": {
          "base_uri": "https://localhost:8080/",
          "height": 855
        },
        "outputId": "bf0d84b8-c4da-4a97-e12b-0202af3caed5"
      },
      "source": [
        "df_storm"
      ],
      "execution_count": null,
      "outputs": [
        {
          "output_type": "execute_result",
          "data": {
            "text/html": [
              "<div>\n",
              "<style scoped>\n",
              "    .dataframe tbody tr th:only-of-type {\n",
              "        vertical-align: middle;\n",
              "    }\n",
              "\n",
              "    .dataframe tbody tr th {\n",
              "        vertical-align: top;\n",
              "    }\n",
              "\n",
              "    .dataframe thead th {\n",
              "        text-align: right;\n",
              "    }\n",
              "</style>\n",
              "<table border=\"1\" class=\"dataframe\">\n",
              "  <thead>\n",
              "    <tr style=\"text-align: right;\">\n",
              "      <th></th>\n",
              "      <th>CZ_NAME_STR</th>\n",
              "      <th>BEGIN_LOCATION</th>\n",
              "      <th>BEGIN_DATE</th>\n",
              "      <th>BEGIN_TIME</th>\n",
              "      <th>EVENT_TYPE</th>\n",
              "      <th>MAGNITUDE</th>\n",
              "      <th>TOR_F_SCALE</th>\n",
              "      <th>DEATHS_DIRECT</th>\n",
              "      <th>INJURIES_DIRECT</th>\n",
              "      <th>DAMAGE_PROPERTY_NUM</th>\n",
              "      <th>DAMAGE_CROPS_NUM</th>\n",
              "      <th>STATE_ABBR</th>\n",
              "      <th>CZ_TIMEZONE</th>\n",
              "      <th>MAGNITUDE_TYPE</th>\n",
              "      <th>EPISODE_ID</th>\n",
              "      <th>CZ_TYPE</th>\n",
              "      <th>CZ_FIPS</th>\n",
              "      <th>WFO</th>\n",
              "      <th>INJURIES_INDIRECT</th>\n",
              "      <th>DEATHS_INDIRECT</th>\n",
              "      <th>SOURCE</th>\n",
              "      <th>FLOOD_CAUSE</th>\n",
              "      <th>TOR_LENGTH</th>\n",
              "      <th>TOR_WIDTH</th>\n",
              "      <th>BEGIN_RANGE</th>\n",
              "      <th>BEGIN_AZIMUTH</th>\n",
              "      <th>END_RANGE</th>\n",
              "      <th>END_AZIMUTH</th>\n",
              "      <th>END_LOCATION</th>\n",
              "      <th>BEGIN_LAT</th>\n",
              "      <th>BEGIN_LON</th>\n",
              "      <th>END_LAT</th>\n",
              "      <th>END_LON</th>\n",
              "      <th>EVENT_NARRATIVE</th>\n",
              "      <th>EPISODE_NARRATIVE</th>\n",
              "      <th>ABSOLUTE_ROWNUMBER</th>\n",
              "    </tr>\n",
              "    <tr>\n",
              "      <th>EVENT_ID</th>\n",
              "      <th></th>\n",
              "      <th></th>\n",
              "      <th></th>\n",
              "      <th></th>\n",
              "      <th></th>\n",
              "      <th></th>\n",
              "      <th></th>\n",
              "      <th></th>\n",
              "      <th></th>\n",
              "      <th></th>\n",
              "      <th></th>\n",
              "      <th></th>\n",
              "      <th></th>\n",
              "      <th></th>\n",
              "      <th></th>\n",
              "      <th></th>\n",
              "      <th></th>\n",
              "      <th></th>\n",
              "      <th></th>\n",
              "      <th></th>\n",
              "      <th></th>\n",
              "      <th></th>\n",
              "      <th></th>\n",
              "      <th></th>\n",
              "      <th></th>\n",
              "      <th></th>\n",
              "      <th></th>\n",
              "      <th></th>\n",
              "      <th></th>\n",
              "      <th></th>\n",
              "      <th></th>\n",
              "      <th></th>\n",
              "      <th></th>\n",
              "      <th></th>\n",
              "      <th></th>\n",
              "      <th></th>\n",
              "    </tr>\n",
              "  </thead>\n",
              "  <tbody>\n",
              "    <tr>\n",
              "      <th>277882</th>\n",
              "      <td>NORTHERN ONEIDA (ZONE)</td>\n",
              "      <td></td>\n",
              "      <td>2011-01-02</td>\n",
              "      <td>2200</td>\n",
              "      <td>Lake-Effect Snow</td>\n",
              "      <td></td>\n",
              "      <td></td>\n",
              "      <td>0</td>\n",
              "      <td>0</td>\n",
              "      <td>0</td>\n",
              "      <td>0</td>\n",
              "      <td>NY</td>\n",
              "      <td>EST-5</td>\n",
              "      <td></td>\n",
              "      <td>47662</td>\n",
              "      <td>Z</td>\n",
              "      <td>9</td>\n",
              "      <td>BGM</td>\n",
              "      <td>0</td>\n",
              "      <td>0</td>\n",
              "      <td>Trained Spotter</td>\n",
              "      <td></td>\n",
              "      <td></td>\n",
              "      <td></td>\n",
              "      <td></td>\n",
              "      <td></td>\n",
              "      <td></td>\n",
              "      <td></td>\n",
              "      <td></td>\n",
              "      <td></td>\n",
              "      <td></td>\n",
              "      <td></td>\n",
              "      <td></td>\n",
              "      <td>A band of lake effect snow brought heavy snow ...</td>\n",
              "      <td>Persistent westerly flow downwind of Lake Onta...</td>\n",
              "      <td>1</td>\n",
              "    </tr>\n",
              "    <tr>\n",
              "      <th>275983</th>\n",
              "      <td>SOUTHERN HERKIMER (ZONE)</td>\n",
              "      <td></td>\n",
              "      <td>2011-01-04</td>\n",
              "      <td>2000</td>\n",
              "      <td>Lake-Effect Snow</td>\n",
              "      <td></td>\n",
              "      <td></td>\n",
              "      <td>0</td>\n",
              "      <td>0</td>\n",
              "      <td>0</td>\n",
              "      <td>0</td>\n",
              "      <td>NY</td>\n",
              "      <td>EST-5</td>\n",
              "      <td></td>\n",
              "      <td>47381</td>\n",
              "      <td>Z</td>\n",
              "      <td>38</td>\n",
              "      <td>ALY</td>\n",
              "      <td>0</td>\n",
              "      <td>0</td>\n",
              "      <td>Trained Spotter</td>\n",
              "      <td></td>\n",
              "      <td></td>\n",
              "      <td></td>\n",
              "      <td></td>\n",
              "      <td></td>\n",
              "      <td></td>\n",
              "      <td></td>\n",
              "      <td></td>\n",
              "      <td></td>\n",
              "      <td></td>\n",
              "      <td></td>\n",
              "      <td></td>\n",
              "      <td>NaN</td>\n",
              "      <td>Colder air moving over the relatively warmer w...</td>\n",
              "      <td>2</td>\n",
              "    </tr>\n",
              "    <tr>\n",
              "      <th>280866</th>\n",
              "      <td>OSWEGO (ZONE)</td>\n",
              "      <td></td>\n",
              "      <td>2011-01-04</td>\n",
              "      <td>2230</td>\n",
              "      <td>Lake-Effect Snow</td>\n",
              "      <td></td>\n",
              "      <td></td>\n",
              "      <td>0</td>\n",
              "      <td>0</td>\n",
              "      <td>30000</td>\n",
              "      <td>0</td>\n",
              "      <td>NY</td>\n",
              "      <td>EST-5</td>\n",
              "      <td></td>\n",
              "      <td>48120</td>\n",
              "      <td>Z</td>\n",
              "      <td>6</td>\n",
              "      <td>BUF</td>\n",
              "      <td>0</td>\n",
              "      <td>0</td>\n",
              "      <td>CoCoRaHS</td>\n",
              "      <td></td>\n",
              "      <td></td>\n",
              "      <td></td>\n",
              "      <td></td>\n",
              "      <td></td>\n",
              "      <td></td>\n",
              "      <td></td>\n",
              "      <td></td>\n",
              "      <td></td>\n",
              "      <td></td>\n",
              "      <td></td>\n",
              "      <td></td>\n",
              "      <td>NaN</td>\n",
              "      <td>A westerly flow of increasingly cold air follo...</td>\n",
              "      <td>3</td>\n",
              "    </tr>\n",
              "    <tr>\n",
              "      <th>280077</th>\n",
              "      <td>NORTHERN ONEIDA (ZONE)</td>\n",
              "      <td></td>\n",
              "      <td>2011-01-05</td>\n",
              "      <td>100</td>\n",
              "      <td>Lake-Effect Snow</td>\n",
              "      <td></td>\n",
              "      <td></td>\n",
              "      <td>0</td>\n",
              "      <td>0</td>\n",
              "      <td>0</td>\n",
              "      <td>0</td>\n",
              "      <td>NY</td>\n",
              "      <td>EST-5</td>\n",
              "      <td></td>\n",
              "      <td>47663</td>\n",
              "      <td>Z</td>\n",
              "      <td>9</td>\n",
              "      <td>BGM</td>\n",
              "      <td>0</td>\n",
              "      <td>0</td>\n",
              "      <td>Trained Spotter</td>\n",
              "      <td></td>\n",
              "      <td></td>\n",
              "      <td></td>\n",
              "      <td></td>\n",
              "      <td></td>\n",
              "      <td></td>\n",
              "      <td></td>\n",
              "      <td></td>\n",
              "      <td></td>\n",
              "      <td></td>\n",
              "      <td></td>\n",
              "      <td></td>\n",
              "      <td>Twelve-hour snowfall totals ranged from 8 to 1...</td>\n",
              "      <td>A persistent westerly flow of cold air across ...</td>\n",
              "      <td>4</td>\n",
              "    </tr>\n",
              "    <tr>\n",
              "      <th>278443</th>\n",
              "      <td>MADISON (ZONE)</td>\n",
              "      <td></td>\n",
              "      <td>2011-01-05</td>\n",
              "      <td>1000</td>\n",
              "      <td>Lake-Effect Snow</td>\n",
              "      <td></td>\n",
              "      <td></td>\n",
              "      <td>0</td>\n",
              "      <td>0</td>\n",
              "      <td>0</td>\n",
              "      <td>0</td>\n",
              "      <td>NY</td>\n",
              "      <td>EST-5</td>\n",
              "      <td></td>\n",
              "      <td>47664</td>\n",
              "      <td>Z</td>\n",
              "      <td>36</td>\n",
              "      <td>BGM</td>\n",
              "      <td>0</td>\n",
              "      <td>0</td>\n",
              "      <td>Trained Spotter</td>\n",
              "      <td></td>\n",
              "      <td></td>\n",
              "      <td></td>\n",
              "      <td></td>\n",
              "      <td></td>\n",
              "      <td></td>\n",
              "      <td></td>\n",
              "      <td></td>\n",
              "      <td></td>\n",
              "      <td></td>\n",
              "      <td></td>\n",
              "      <td></td>\n",
              "      <td>Storm total snowfall amounts ranged from 8 to ...</td>\n",
              "      <td>A low pressure system sitting over eastern Can...</td>\n",
              "      <td>5</td>\n",
              "    </tr>\n",
              "    <tr>\n",
              "      <th>...</th>\n",
              "      <td>...</td>\n",
              "      <td>...</td>\n",
              "      <td>...</td>\n",
              "      <td>...</td>\n",
              "      <td>...</td>\n",
              "      <td>...</td>\n",
              "      <td>...</td>\n",
              "      <td>...</td>\n",
              "      <td>...</td>\n",
              "      <td>...</td>\n",
              "      <td>...</td>\n",
              "      <td>...</td>\n",
              "      <td>...</td>\n",
              "      <td>...</td>\n",
              "      <td>...</td>\n",
              "      <td>...</td>\n",
              "      <td>...</td>\n",
              "      <td>...</td>\n",
              "      <td>...</td>\n",
              "      <td>...</td>\n",
              "      <td>...</td>\n",
              "      <td>...</td>\n",
              "      <td>...</td>\n",
              "      <td>...</td>\n",
              "      <td>...</td>\n",
              "      <td>...</td>\n",
              "      <td>...</td>\n",
              "      <td>...</td>\n",
              "      <td>...</td>\n",
              "      <td>...</td>\n",
              "      <td>...</td>\n",
              "      <td>...</td>\n",
              "      <td>...</td>\n",
              "      <td>...</td>\n",
              "      <td>...</td>\n",
              "      <td>...</td>\n",
              "    </tr>\n",
              "    <tr>\n",
              "      <th>281755</th>\n",
              "      <td>EASTERN RENSSELAER (ZONE)</td>\n",
              "      <td></td>\n",
              "      <td>2011-02-07</td>\n",
              "      <td>2030</td>\n",
              "      <td>Winter Weather</td>\n",
              "      <td></td>\n",
              "      <td></td>\n",
              "      <td>0</td>\n",
              "      <td>0</td>\n",
              "      <td>0</td>\n",
              "      <td>0</td>\n",
              "      <td>NY</td>\n",
              "      <td>EST-5</td>\n",
              "      <td></td>\n",
              "      <td>48251</td>\n",
              "      <td>Z</td>\n",
              "      <td>54</td>\n",
              "      <td>ALY</td>\n",
              "      <td>0</td>\n",
              "      <td>0</td>\n",
              "      <td>Broadcast Media</td>\n",
              "      <td></td>\n",
              "      <td></td>\n",
              "      <td></td>\n",
              "      <td></td>\n",
              "      <td></td>\n",
              "      <td></td>\n",
              "      <td></td>\n",
              "      <td></td>\n",
              "      <td></td>\n",
              "      <td></td>\n",
              "      <td></td>\n",
              "      <td></td>\n",
              "      <td>NaN</td>\n",
              "      <td>The combination of the passage of an arctic co...</td>\n",
              "      <td>274</td>\n",
              "    </tr>\n",
              "    <tr>\n",
              "      <th>279317</th>\n",
              "      <td>SOUTHWESTERN ST. LAWRENCE (ZONE)</td>\n",
              "      <td></td>\n",
              "      <td>2011-02-09</td>\n",
              "      <td>900</td>\n",
              "      <td>Lake-Effect Snow</td>\n",
              "      <td></td>\n",
              "      <td></td>\n",
              "      <td>0</td>\n",
              "      <td>0</td>\n",
              "      <td>5000</td>\n",
              "      <td>0</td>\n",
              "      <td>NY</td>\n",
              "      <td>EST-5</td>\n",
              "      <td></td>\n",
              "      <td>47890</td>\n",
              "      <td>Z</td>\n",
              "      <td>87</td>\n",
              "      <td>BTV</td>\n",
              "      <td>0</td>\n",
              "      <td>0</td>\n",
              "      <td>COOP Observer</td>\n",
              "      <td></td>\n",
              "      <td></td>\n",
              "      <td></td>\n",
              "      <td></td>\n",
              "      <td></td>\n",
              "      <td></td>\n",
              "      <td></td>\n",
              "      <td></td>\n",
              "      <td></td>\n",
              "      <td></td>\n",
              "      <td></td>\n",
              "      <td></td>\n",
              "      <td>NaN</td>\n",
              "      <td>On February 9th, a weak surface trough along w...</td>\n",
              "      <td>275</td>\n",
              "    </tr>\n",
              "    <tr>\n",
              "      <th>286255</th>\n",
              "      <td>OSWEGO (ZONE)</td>\n",
              "      <td></td>\n",
              "      <td>2011-02-09</td>\n",
              "      <td>2100</td>\n",
              "      <td>Lake-Effect Snow</td>\n",
              "      <td></td>\n",
              "      <td></td>\n",
              "      <td>0</td>\n",
              "      <td>0</td>\n",
              "      <td>50000</td>\n",
              "      <td>0</td>\n",
              "      <td>NY</td>\n",
              "      <td>EST-5</td>\n",
              "      <td></td>\n",
              "      <td>48923</td>\n",
              "      <td>Z</td>\n",
              "      <td>6</td>\n",
              "      <td>BUF</td>\n",
              "      <td>0</td>\n",
              "      <td>0</td>\n",
              "      <td>CoCoRaHS</td>\n",
              "      <td></td>\n",
              "      <td></td>\n",
              "      <td></td>\n",
              "      <td></td>\n",
              "      <td></td>\n",
              "      <td></td>\n",
              "      <td></td>\n",
              "      <td></td>\n",
              "      <td></td>\n",
              "      <td></td>\n",
              "      <td></td>\n",
              "      <td></td>\n",
              "      <td>NaN</td>\n",
              "      <td>This lake effect storm, as typical for late se...</td>\n",
              "      <td>276</td>\n",
              "    </tr>\n",
              "    <tr>\n",
              "      <th>286256</th>\n",
              "      <td>JEFFERSON (ZONE)</td>\n",
              "      <td></td>\n",
              "      <td>2011-02-09</td>\n",
              "      <td>2100</td>\n",
              "      <td>Lake-Effect Snow</td>\n",
              "      <td></td>\n",
              "      <td></td>\n",
              "      <td>0</td>\n",
              "      <td>0</td>\n",
              "      <td>40000</td>\n",
              "      <td>0</td>\n",
              "      <td>NY</td>\n",
              "      <td>EST-5</td>\n",
              "      <td></td>\n",
              "      <td>48923</td>\n",
              "      <td>Z</td>\n",
              "      <td>7</td>\n",
              "      <td>BUF</td>\n",
              "      <td>0</td>\n",
              "      <td>0</td>\n",
              "      <td>CoCoRaHS</td>\n",
              "      <td></td>\n",
              "      <td></td>\n",
              "      <td></td>\n",
              "      <td></td>\n",
              "      <td></td>\n",
              "      <td></td>\n",
              "      <td></td>\n",
              "      <td></td>\n",
              "      <td></td>\n",
              "      <td></td>\n",
              "      <td></td>\n",
              "      <td></td>\n",
              "      <td>NaN</td>\n",
              "      <td>This lake effect storm, as typical for late se...</td>\n",
              "      <td>277</td>\n",
              "    </tr>\n",
              "    <tr>\n",
              "      <th>286257</th>\n",
              "      <td>LEWIS (ZONE)</td>\n",
              "      <td></td>\n",
              "      <td>2011-02-09</td>\n",
              "      <td>2100</td>\n",
              "      <td>Lake-Effect Snow</td>\n",
              "      <td></td>\n",
              "      <td></td>\n",
              "      <td>0</td>\n",
              "      <td>0</td>\n",
              "      <td>35000</td>\n",
              "      <td>0</td>\n",
              "      <td>NY</td>\n",
              "      <td>EST-5</td>\n",
              "      <td></td>\n",
              "      <td>48923</td>\n",
              "      <td>Z</td>\n",
              "      <td>8</td>\n",
              "      <td>BUF</td>\n",
              "      <td>0</td>\n",
              "      <td>0</td>\n",
              "      <td>CoCoRaHS</td>\n",
              "      <td></td>\n",
              "      <td></td>\n",
              "      <td></td>\n",
              "      <td></td>\n",
              "      <td></td>\n",
              "      <td></td>\n",
              "      <td></td>\n",
              "      <td></td>\n",
              "      <td></td>\n",
              "      <td></td>\n",
              "      <td></td>\n",
              "      <td></td>\n",
              "      <td>NaN</td>\n",
              "      <td>This lake effect storm, as typical for late se...</td>\n",
              "      <td>278</td>\n",
              "    </tr>\n",
              "  </tbody>\n",
              "</table>\n",
              "<p>278 rows × 36 columns</p>\n",
              "</div>"
            ],
            "text/plain": [
              "                               CZ_NAME_STR  ... ABSOLUTE_ROWNUMBER\n",
              "EVENT_ID                                    ...                   \n",
              "277882              NORTHERN ONEIDA (ZONE)  ...                  1\n",
              "275983            SOUTHERN HERKIMER (ZONE)  ...                  2\n",
              "280866                       OSWEGO (ZONE)  ...                  3\n",
              "280077              NORTHERN ONEIDA (ZONE)  ...                  4\n",
              "278443                      MADISON (ZONE)  ...                  5\n",
              "...                                    ...  ...                ...\n",
              "281755           EASTERN RENSSELAER (ZONE)  ...                274\n",
              "279317    SOUTHWESTERN ST. LAWRENCE (ZONE)  ...                275\n",
              "286255                       OSWEGO (ZONE)  ...                276\n",
              "286256                    JEFFERSON (ZONE)  ...                277\n",
              "286257                        LEWIS (ZONE)  ...                278\n",
              "\n",
              "[278 rows x 36 columns]"
            ]
          },
          "metadata": {
            "tags": []
          },
          "execution_count": 53
        }
      ]
    },
    {
      "cell_type": "code",
      "metadata": {
        "id": "sWdUxOb6R4Kq",
        "colab": {
          "base_uri": "https://localhost:8080/"
        },
        "outputId": "e2036eac-3337-49bc-93df-b6ca42a2d1d0"
      },
      "source": [
        "df_storm.CZ_NAME_STR.unique()"
      ],
      "execution_count": null,
      "outputs": [
        {
          "output_type": "execute_result",
          "data": {
            "text/plain": [
              "array(['NORTHERN ONEIDA (ZONE)', 'SOUTHERN HERKIMER (ZONE)',\n",
              "       'OSWEGO (ZONE)', 'MADISON (ZONE)', 'DELAWARE (ZONE)',\n",
              "       'CHENANGO (ZONE)', 'NORTHERN CAYUGA (ZONE)',\n",
              "       'WESTERN ULSTER (ZONE)', 'WESTERN GREENE (ZONE)',\n",
              "       'NORTHERN FULTON (ZONE)', 'SOUTHERN FULTON (ZONE)',\n",
              "       'SCHOHARIE (ZONE)', 'MONTGOMERY (ZONE)',\n",
              "       'WESTERN SCHENECTADY (ZONE)', 'EASTERN GREENE (ZONE)',\n",
              "       'WESTERN ALBANY (ZONE)', 'NORTHERN HERKIMER (ZONE)',\n",
              "       'SULLIVAN (ZONE)', 'EASTERN ALBANY (ZONE)',\n",
              "       'EASTERN SCHENECTADY (ZONE)', 'SOUTHERN SARATOGA (ZONE)',\n",
              "       'HAMILTON (ZONE)', 'NORTHERN SARATOGA (ZONE)', 'PUTNAM (ZONE)',\n",
              "       'NORTHERN WESTCHESTER (ZONE)', 'EASTERN ULSTER (ZONE)',\n",
              "       'NORTHERN WASHINGTON (ZONE)', 'SOUTHERN WASHINGTON (ZONE)',\n",
              "       'EASTERN RENSSELAER (ZONE)', 'WESTERN RENSSELAER (ZONE)',\n",
              "       'EASTERN COLUMBIA (ZONE)', 'WESTERN COLUMBIA (ZONE)',\n",
              "       'WESTERN DUTCHESS (ZONE)', 'EASTERN DUTCHESS (ZONE)',\n",
              "       'SOUTHEAST WARREN (ZONE)', 'NORTHERN WARREN (ZONE)',\n",
              "       'SOUTHERN FRANKLIN (ZONE)', 'NORTHERN FRANKLIN (ZONE)',\n",
              "       'WESTERN ESSEX (ZONE)', 'SOUTHEASTERN ST. LAWRENCE (ZONE)',\n",
              "       'RICHMOND (STATEN IS.) (ZONE)', 'KINGS (BROOKLYN) (ZONE)',\n",
              "       'NEW YORK (MANHATTAN) (ZONE)', 'SOUTHERN QUEENS (ZONE)',\n",
              "       'NORTHERN QUEENS (ZONE)', 'SOUTHERN WESTCHESTER (ZONE)',\n",
              "       'BRONX (ZONE)', 'SOUTHWEST SUFFOLK (ZONE)',\n",
              "       'NORTHWEST SUFFOLK (ZONE)', 'SOUTHERN NASSAU (ZONE)',\n",
              "       'ROCKLAND (ZONE)', 'ORANGE (ZONE)', 'NORTHERN NASSAU (ZONE)',\n",
              "       'NORTHEAST SUFFOLK (ZONE)', 'SOUTHEAST SUFFOLK (ZONE)',\n",
              "       'EASTERN ESSEX (ZONE)', 'LEWIS (ZONE)', 'WAYNE (ZONE)',\n",
              "       'ONONDAGA (ZONE)', 'SOUTHERN ONEIDA (ZONE)', 'CHAUTAUQUA (ZONE)',\n",
              "       'SOUTHERN ERIE (ZONE)', 'JEFFERSON (ZONE)', 'OTSEGO (ZONE)',\n",
              "       'NORTHERN ST. LAWRENCE (ZONE)', 'SOUTHWESTERN ST. LAWRENCE (ZONE)',\n",
              "       'EASTERN CLINTON (ZONE)', 'WESTERN CLINTON (ZONE)',\n",
              "       'ALLEGANY (ZONE)'], dtype=object)"
            ]
          },
          "metadata": {
            "tags": []
          },
          "execution_count": 54
        }
      ]
    },
    {
      "cell_type": "code",
      "metadata": {
        "id": "FigWWVGxR6gc",
        "colab": {
          "base_uri": "https://localhost:8080/"
        },
        "outputId": "c40a5993-5d7c-49a2-a34e-e365579e20ea"
      },
      "source": [
        "df.Borough.unique()"
      ],
      "execution_count": null,
      "outputs": [
        {
          "output_type": "execute_result",
          "data": {
            "text/plain": [
              "array(['Unspecified', 'MANHATTAN', 'BROOKLYN', 'STATEN ISLAND', 'QUEENS',\n",
              "       'BRONX'], dtype=object)"
            ]
          },
          "metadata": {
            "tags": []
          },
          "execution_count": 55
        }
      ]
    },
    {
      "cell_type": "code",
      "metadata": {
        "id": "qHee6vTwR8MH",
        "colab": {
          "base_uri": "https://localhost:8080/"
        },
        "outputId": "3bbd6dbd-8900-4242-bc87-3a639596c6c9"
      },
      "source": [
        "df_storm.CZ_NAME_STR.unique()"
      ],
      "execution_count": null,
      "outputs": [
        {
          "output_type": "execute_result",
          "data": {
            "text/plain": [
              "array(['NORTHERN ONEIDA (ZONE)', 'SOUTHERN HERKIMER (ZONE)',\n",
              "       'OSWEGO (ZONE)', 'MADISON (ZONE)', 'DELAWARE (ZONE)',\n",
              "       'CHENANGO (ZONE)', 'NORTHERN CAYUGA (ZONE)',\n",
              "       'WESTERN ULSTER (ZONE)', 'WESTERN GREENE (ZONE)',\n",
              "       'NORTHERN FULTON (ZONE)', 'SOUTHERN FULTON (ZONE)',\n",
              "       'SCHOHARIE (ZONE)', 'MONTGOMERY (ZONE)',\n",
              "       'WESTERN SCHENECTADY (ZONE)', 'EASTERN GREENE (ZONE)',\n",
              "       'WESTERN ALBANY (ZONE)', 'NORTHERN HERKIMER (ZONE)',\n",
              "       'SULLIVAN (ZONE)', 'EASTERN ALBANY (ZONE)',\n",
              "       'EASTERN SCHENECTADY (ZONE)', 'SOUTHERN SARATOGA (ZONE)',\n",
              "       'HAMILTON (ZONE)', 'NORTHERN SARATOGA (ZONE)', 'PUTNAM (ZONE)',\n",
              "       'NORTHERN WESTCHESTER (ZONE)', 'EASTERN ULSTER (ZONE)',\n",
              "       'NORTHERN WASHINGTON (ZONE)', 'SOUTHERN WASHINGTON (ZONE)',\n",
              "       'EASTERN RENSSELAER (ZONE)', 'WESTERN RENSSELAER (ZONE)',\n",
              "       'EASTERN COLUMBIA (ZONE)', 'WESTERN COLUMBIA (ZONE)',\n",
              "       'WESTERN DUTCHESS (ZONE)', 'EASTERN DUTCHESS (ZONE)',\n",
              "       'SOUTHEAST WARREN (ZONE)', 'NORTHERN WARREN (ZONE)',\n",
              "       'SOUTHERN FRANKLIN (ZONE)', 'NORTHERN FRANKLIN (ZONE)',\n",
              "       'WESTERN ESSEX (ZONE)', 'SOUTHEASTERN ST. LAWRENCE (ZONE)',\n",
              "       'RICHMOND (STATEN IS.) (ZONE)', 'KINGS (BROOKLYN) (ZONE)',\n",
              "       'NEW YORK (MANHATTAN) (ZONE)', 'SOUTHERN QUEENS (ZONE)',\n",
              "       'NORTHERN QUEENS (ZONE)', 'SOUTHERN WESTCHESTER (ZONE)',\n",
              "       'BRONX (ZONE)', 'SOUTHWEST SUFFOLK (ZONE)',\n",
              "       'NORTHWEST SUFFOLK (ZONE)', 'SOUTHERN NASSAU (ZONE)',\n",
              "       'ROCKLAND (ZONE)', 'ORANGE (ZONE)', 'NORTHERN NASSAU (ZONE)',\n",
              "       'NORTHEAST SUFFOLK (ZONE)', 'SOUTHEAST SUFFOLK (ZONE)',\n",
              "       'EASTERN ESSEX (ZONE)', 'LEWIS (ZONE)', 'WAYNE (ZONE)',\n",
              "       'ONONDAGA (ZONE)', 'SOUTHERN ONEIDA (ZONE)', 'CHAUTAUQUA (ZONE)',\n",
              "       'SOUTHERN ERIE (ZONE)', 'JEFFERSON (ZONE)', 'OTSEGO (ZONE)',\n",
              "       'NORTHERN ST. LAWRENCE (ZONE)', 'SOUTHWESTERN ST. LAWRENCE (ZONE)',\n",
              "       'EASTERN CLINTON (ZONE)', 'WESTERN CLINTON (ZONE)',\n",
              "       'ALLEGANY (ZONE)'], dtype=object)"
            ]
          },
          "metadata": {
            "tags": []
          },
          "execution_count": 56
        }
      ]
    },
    {
      "cell_type": "code",
      "metadata": {
        "id": "sjH_OUveR9wh",
        "colab": {
          "base_uri": "https://localhost:8080/"
        },
        "outputId": "89f6eb0e-7f27-42d4-a1d5-be752fd51ce3"
      },
      "source": [
        "df_storm.columns"
      ],
      "execution_count": null,
      "outputs": [
        {
          "output_type": "execute_result",
          "data": {
            "text/plain": [
              "Index(['CZ_NAME_STR', 'BEGIN_LOCATION', 'BEGIN_DATE', 'BEGIN_TIME',\n",
              "       'EVENT_TYPE', 'MAGNITUDE', 'TOR_F_SCALE', 'DEATHS_DIRECT',\n",
              "       'INJURIES_DIRECT', 'DAMAGE_PROPERTY_NUM', 'DAMAGE_CROPS_NUM',\n",
              "       'STATE_ABBR', 'CZ_TIMEZONE', 'MAGNITUDE_TYPE', 'EPISODE_ID', 'CZ_TYPE',\n",
              "       'CZ_FIPS', 'WFO', 'INJURIES_INDIRECT', 'DEATHS_INDIRECT', 'SOURCE',\n",
              "       'FLOOD_CAUSE', 'TOR_LENGTH', 'TOR_WIDTH', 'BEGIN_RANGE',\n",
              "       'BEGIN_AZIMUTH', 'END_RANGE', 'END_AZIMUTH', 'END_LOCATION',\n",
              "       'BEGIN_LAT', 'BEGIN_LON', 'END_LAT', 'END_LON', 'EVENT_NARRATIVE',\n",
              "       'EPISODE_NARRATIVE', 'ABSOLUTE_ROWNUMBER'],\n",
              "      dtype='object')"
            ]
          },
          "metadata": {
            "tags": []
          },
          "execution_count": 57
        }
      ]
    },
    {
      "cell_type": "code",
      "metadata": {
        "id": "0gcfCbjfR-yS"
      },
      "source": [
        "df_storm = df_storm.rename(columns={'BEGIN_DATE': 'Created Date', 'CZ_NAME_STR': 'Storm_Borough'})"
      ],
      "execution_count": null,
      "outputs": []
    },
    {
      "cell_type": "markdown",
      "metadata": {
        "id": "q1IOYIgrSBlN"
      },
      "source": [
        "Performing inner join of storms dataframe and data of all 5 boroughs on Created Date column."
      ]
    },
    {
      "cell_type": "code",
      "metadata": {
        "id": "I6FpvKjOSEIC"
      },
      "source": [
        "result = pd.merge(df,df_storm[['Storm_Borough','Created Date','BEGIN_TIME','EVENT_TYPE']], on = 'Created Date')"
      ],
      "execution_count": null,
      "outputs": []
    },
    {
      "cell_type": "code",
      "metadata": {
        "id": "6RVEaECmk0Xf",
        "colab": {
          "base_uri": "https://localhost:8080/",
          "height": 417
        },
        "outputId": "63b0994b-74e8-4c43-e14c-48cef80e98ab"
      },
      "source": [
        "result.head(3)\n"
      ],
      "execution_count": null,
      "outputs": [
        {
          "output_type": "execute_result",
          "data": {
            "text/html": [
              "<div>\n",
              "<style scoped>\n",
              "    .dataframe tbody tr th:only-of-type {\n",
              "        vertical-align: middle;\n",
              "    }\n",
              "\n",
              "    .dataframe tbody tr th {\n",
              "        vertical-align: top;\n",
              "    }\n",
              "\n",
              "    .dataframe thead th {\n",
              "        text-align: right;\n",
              "    }\n",
              "</style>\n",
              "<table border=\"1\" class=\"dataframe\">\n",
              "  <thead>\n",
              "    <tr style=\"text-align: right;\">\n",
              "      <th></th>\n",
              "      <th>Unique Key</th>\n",
              "      <th>Created Date</th>\n",
              "      <th>Closed Date</th>\n",
              "      <th>Agency</th>\n",
              "      <th>Agency Name</th>\n",
              "      <th>Complaint Type</th>\n",
              "      <th>Descriptor</th>\n",
              "      <th>Location Type</th>\n",
              "      <th>Incident Zip</th>\n",
              "      <th>Incident Address</th>\n",
              "      <th>Street Name</th>\n",
              "      <th>City</th>\n",
              "      <th>Status</th>\n",
              "      <th>Due Date</th>\n",
              "      <th>Resolution Description</th>\n",
              "      <th>Resolution Action Updated Date</th>\n",
              "      <th>Community Board</th>\n",
              "      <th>Borough</th>\n",
              "      <th>X Coordinate (State Plane)</th>\n",
              "      <th>Y Coordinate (State Plane)</th>\n",
              "      <th>Park Facility Name</th>\n",
              "      <th>Park Borough</th>\n",
              "      <th>Latitude</th>\n",
              "      <th>Longitude</th>\n",
              "      <th>Location</th>\n",
              "      <th>Resolution_Time</th>\n",
              "      <th>Day of Week</th>\n",
              "      <th>Day of Month</th>\n",
              "      <th>Month</th>\n",
              "      <th>Year</th>\n",
              "      <th>Storm_Borough</th>\n",
              "      <th>BEGIN_TIME</th>\n",
              "      <th>EVENT_TYPE</th>\n",
              "    </tr>\n",
              "  </thead>\n",
              "  <tbody>\n",
              "    <tr>\n",
              "      <th>0</th>\n",
              "      <td>19625909</td>\n",
              "      <td>2011-01-18</td>\n",
              "      <td>2011-01-25</td>\n",
              "      <td>HPD</td>\n",
              "      <td>Department of Housing Preservation and Develop...</td>\n",
              "      <td>HEATING</td>\n",
              "      <td>HEAT</td>\n",
              "      <td>RESIDENTIAL BUILDING</td>\n",
              "      <td>11233</td>\n",
              "      <td>246 SUMPTER STREET</td>\n",
              "      <td>SUMPTER STREET</td>\n",
              "      <td>BROOKLYN</td>\n",
              "      <td>Closed</td>\n",
              "      <td>NaN</td>\n",
              "      <td>The Department of Housing Preservation and Dev...</td>\n",
              "      <td>01/25/2011 12:00:00 AM</td>\n",
              "      <td>0 Unspecified</td>\n",
              "      <td>Unspecified</td>\n",
              "      <td>1007874.0</td>\n",
              "      <td>187240.0</td>\n",
              "      <td>Unspecified</td>\n",
              "      <td>Unspecified</td>\n",
              "      <td>40.680576</td>\n",
              "      <td>-73.914826</td>\n",
              "      <td>(40.68057578695235, -73.91482598040905)</td>\n",
              "      <td>7.0</td>\n",
              "      <td>1</td>\n",
              "      <td>18</td>\n",
              "      <td>1</td>\n",
              "      <td>2011</td>\n",
              "      <td>WESTERN DUTCHESS (ZONE)</td>\n",
              "      <td>100</td>\n",
              "      <td>Winter Storm</td>\n",
              "    </tr>\n",
              "    <tr>\n",
              "      <th>1</th>\n",
              "      <td>19625909</td>\n",
              "      <td>2011-01-18</td>\n",
              "      <td>2011-01-25</td>\n",
              "      <td>HPD</td>\n",
              "      <td>Department of Housing Preservation and Develop...</td>\n",
              "      <td>HEATING</td>\n",
              "      <td>HEAT</td>\n",
              "      <td>RESIDENTIAL BUILDING</td>\n",
              "      <td>11233</td>\n",
              "      <td>246 SUMPTER STREET</td>\n",
              "      <td>SUMPTER STREET</td>\n",
              "      <td>BROOKLYN</td>\n",
              "      <td>Closed</td>\n",
              "      <td>NaN</td>\n",
              "      <td>The Department of Housing Preservation and Dev...</td>\n",
              "      <td>01/25/2011 12:00:00 AM</td>\n",
              "      <td>0 Unspecified</td>\n",
              "      <td>Unspecified</td>\n",
              "      <td>1007874.0</td>\n",
              "      <td>187240.0</td>\n",
              "      <td>Unspecified</td>\n",
              "      <td>Unspecified</td>\n",
              "      <td>40.680576</td>\n",
              "      <td>-73.914826</td>\n",
              "      <td>(40.68057578695235, -73.91482598040905)</td>\n",
              "      <td>7.0</td>\n",
              "      <td>1</td>\n",
              "      <td>18</td>\n",
              "      <td>1</td>\n",
              "      <td>2011</td>\n",
              "      <td>WESTERN ULSTER (ZONE)</td>\n",
              "      <td>100</td>\n",
              "      <td>Winter Storm</td>\n",
              "    </tr>\n",
              "    <tr>\n",
              "      <th>2</th>\n",
              "      <td>19625909</td>\n",
              "      <td>2011-01-18</td>\n",
              "      <td>2011-01-25</td>\n",
              "      <td>HPD</td>\n",
              "      <td>Department of Housing Preservation and Develop...</td>\n",
              "      <td>HEATING</td>\n",
              "      <td>HEAT</td>\n",
              "      <td>RESIDENTIAL BUILDING</td>\n",
              "      <td>11233</td>\n",
              "      <td>246 SUMPTER STREET</td>\n",
              "      <td>SUMPTER STREET</td>\n",
              "      <td>BROOKLYN</td>\n",
              "      <td>Closed</td>\n",
              "      <td>NaN</td>\n",
              "      <td>The Department of Housing Preservation and Dev...</td>\n",
              "      <td>01/25/2011 12:00:00 AM</td>\n",
              "      <td>0 Unspecified</td>\n",
              "      <td>Unspecified</td>\n",
              "      <td>1007874.0</td>\n",
              "      <td>187240.0</td>\n",
              "      <td>Unspecified</td>\n",
              "      <td>Unspecified</td>\n",
              "      <td>40.680576</td>\n",
              "      <td>-73.914826</td>\n",
              "      <td>(40.68057578695235, -73.91482598040905)</td>\n",
              "      <td>7.0</td>\n",
              "      <td>1</td>\n",
              "      <td>18</td>\n",
              "      <td>1</td>\n",
              "      <td>2011</td>\n",
              "      <td>EASTERN ULSTER (ZONE)</td>\n",
              "      <td>100</td>\n",
              "      <td>Winter Weather</td>\n",
              "    </tr>\n",
              "  </tbody>\n",
              "</table>\n",
              "</div>"
            ],
            "text/plain": [
              "   Unique Key Created Date  ... BEGIN_TIME      EVENT_TYPE\n",
              "0    19625909   2011-01-18  ...        100    Winter Storm\n",
              "1    19625909   2011-01-18  ...        100    Winter Storm\n",
              "2    19625909   2011-01-18  ...        100  Winter Weather\n",
              "\n",
              "[3 rows x 33 columns]"
            ]
          },
          "metadata": {
            "tags": []
          },
          "execution_count": 60
        }
      ]
    },
    {
      "cell_type": "code",
      "metadata": {
        "id": "YL6evZrYr9f3"
      },
      "source": [
        "\n",
        "#from google.colab import files\n",
        "#result.to_csv('result.csv')\n",
        "#files.download('result.csv') \n",
        "#!cp result.csv \"drive/My Drive/\""
      ],
      "execution_count": null,
      "outputs": []
    },
    {
      "cell_type": "code",
      "metadata": {
        "id": "fHpF-4kNSFJc",
        "colab": {
          "base_uri": "https://localhost:8080/",
          "height": 473
        },
        "outputId": "514fca5f-c230-4bcd-b209-f807532f8548"
      },
      "source": [
        "result = result[result['Borough'] != 'Unspecified']\n",
        "result['Borough'].value_counts().plot(kind = 'pie', \n",
        "                                      autopct = '%1.0f%%', \n",
        "                                      figsize = (9,5))\n",
        "plt.axis('equal')\n",
        "plt.title('Complaints distribution across Boroughs during Storms\\n')\n",
        "plt.tight_layout()\n",
        "plt.show()\n",
        "result['Borough'].value_counts()"
      ],
      "execution_count": null,
      "outputs": [
        {
          "output_type": "display_data",
          "data": {
            "image/png": "[encoded data removed]",
            "text/plain": [
              "<Figure size 648x360 with 1 Axes>"
            ]
          },
          "metadata": {
            "tags": []
          }
        },
        {
          "output_type": "execute_result",
          "data": {
            "text/plain": [
              "BROOKLYN         2841\n",
              "MANHATTAN        2186\n",
              "BRONX            1955\n",
              "QUEENS           1459\n",
              "STATEN ISLAND     270\n",
              "Name: Borough, dtype: int64"
            ]
          },
          "metadata": {
            "tags": []
          },
          "execution_count": 62
        }
      ]
    },
    {
      "cell_type": "code",
      "metadata": {
        "id": "RoDRne61SHZG",
        "colab": {
          "base_uri": "https://localhost:8080/",
          "height": 458
        },
        "outputId": "a4e841a1-b0f1-40b9-8858-fd151acc91a5"
      },
      "source": [
        "(result['Complaint Type'].value_counts()).head(15).plot(kind = 'bar',\n",
        "                                                        figsize = (9,5),\n",
        "                                                        color = \"darkgreen\",\n",
        "                                                        title = 'Most Frequent Complaints during Storm')"
      ],
      "execution_count": null,
      "outputs": [
        {
          "output_type": "execute_result",
          "data": {
            "text/plain": [
              "<matplotlib.axes._subplots.AxesSubplot at 0x7f3afd27d748>"
            ]
          },
          "metadata": {
            "tags": []
          },
          "execution_count": 63
        },
        {
          "output_type": "display_data",
          "data": {
            "image/png": "[encoded data removed]",
            "text/plain": [
              "<Figure size 648x360 with 1 Axes>"
            ]
          },
          "metadata": {
            "tags": [],
            "needs_background": "light"
          }
        }
      ]
    },
    {
      "cell_type": "markdown",
      "metadata": {
        "id": "p0o5W-CImw2B"
      },
      "source": [
        "##The most type of complains during storm are complaints regarding Rodents."
      ]
    },
    {
      "cell_type": "code",
      "metadata": {
        "id": "5A-Z296jSJ54",
        "colab": {
          "base_uri": "https://localhost:8080/",
          "height": 463
        },
        "outputId": "7a4c96ef-bde3-440d-84e3-5ec6811d178a"
      },
      "source": [
        "(result['EVENT_TYPE'].value_counts()).head(25).plot(kind = 'bar',\n",
        "                                                    figsize = (9,5),\n",
        "                                                    color = \"darkgreen\",\n",
        "                                                    title = '# Complaints vs Storm Type')"
      ],
      "execution_count": null,
      "outputs": [
        {
          "output_type": "execute_result",
          "data": {
            "text/plain": [
              "<matplotlib.axes._subplots.AxesSubplot at 0x7f3af2105710>"
            ]
          },
          "metadata": {
            "tags": []
          },
          "execution_count": 64
        },
        {
          "output_type": "display_data",
          "data": {
            "image/png": "[encoded data removed]",
            "text/plain": [
              "<Figure size 648x360 with 1 Axes>"
            ]
          },
          "metadata": {
            "tags": [],
            "needs_background": "light"
          }
        }
      ]
    },
    {
      "cell_type": "markdown",
      "metadata": {
        "id": "_o1qPQuxctyN"
      },
      "source": [
        "####Most complaints arise during winter storms."
      ]
    },
    {
      "cell_type": "code",
      "metadata": {
        "id": "B9KZr6HZSQd-",
        "colab": {
          "base_uri": "https://localhost:8080/",
          "height": 455
        },
        "outputId": "6d6004ef-85dc-4b7f-94e5-a70a02cac66f"
      },
      "source": [
        "storm = (result['Complaint Type'].value_counts()).head(15)\n",
        "noStorm = df[df['Complaint Type'].isin(storm.index)]\n",
        "\n",
        "var = result.groupby('Complaint Type').Resolution_Time.mean()\n",
        "frequent = result['Complaint Type'].value_counts().head(15)\n",
        "var = var.loc[frequent.index]\n",
        "\n",
        "var1 = noStorm.groupby('Complaint Type').Resolution_Time.mean()\n",
        "frequent1 = noStorm['Complaint Type'].value_counts().head(15)\n",
        "var1 = var1.loc[frequent.index]\n",
        "\n",
        "# Setting the positions and width for the bars\n",
        "pos, width = list(range(len(var))), 0.25\n",
        "\n",
        "# Plotting the bars\n",
        "fig, ax = plt.subplots(figsize=(11,5))\n",
        "\n",
        "plt.bar(pos, \n",
        "        var, \n",
        "        width,  \n",
        "        color = 'darkgreen', \n",
        "        label = var.index[0]) \n",
        "\n",
        "plt.bar([p + width for p in pos], \n",
        "        var1,\n",
        "        width,  \n",
        "        color = 'orange', \n",
        "        label = var.index[1]) \n",
        "\n",
        "ax.set_ylabel('Avg Response Time')\n",
        "ax.set_xlabel('Common Complaints')\n",
        "ax.set_title('Comparison of Response Time during storm and otherwise')\n",
        "ax.set_xticks([p + width for p in pos])\n",
        "ax.set_xticklabels(var1.index)\n",
        "plt.xlim(min(pos) - width, max(pos) + width * 4)\n",
        "plt.xticks(rotation = 'vertical')\n",
        "plt.legend(['with Storm', 'Generally'], loc = 'upper left')\n",
        "plt.grid()"
      ],
      "execution_count": null,
      "outputs": [
        {
          "output_type": "display_data",
          "data": {
            "image/png": "[encoded data removed]",
            "text/plain": [
              "<Figure size 792x360 with 1 Axes>"
            ]
          },
          "metadata": {
            "tags": [],
            "needs_background": "light"
          }
        }
      ]
    },
    {
      "cell_type": "markdown",
      "metadata": {
        "id": "XCesYGFXnBX5"
      },
      "source": [
        "Hence, we can see that the avg response time for rodent problems increases during storm times, however; the electric complaints are solved on top priority hence decreasing their response time."
      ]
    }
  ]
}